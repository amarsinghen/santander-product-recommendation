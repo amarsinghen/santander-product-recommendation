{
  "nbformat": 4,
  "nbformat_minor": 0,
  "metadata": {
    "colab": {
      "name": "Santander_Product_Recommendation.ipynb",
      "provenance": [],
      "collapsed_sections": [],
      "machine_shape": "hm",
      "mount_file_id": "1ot7Q0AA0i_vNxks07vX00CkVJRxgcKYR",
      "authorship_tag": "ABX9TyNlpelakPjlrObj82NgjfJU",
      "include_colab_link": true
    },
    "kernelspec": {
      "name": "python3",
      "display_name": "Python 3"
    },
    "accelerator": "TPU"
  },
  "cells": [
    {
      "cell_type": "markdown",
      "metadata": {
        "id": "view-in-github",
        "colab_type": "text"
      },
      "source": [
        "<a href=\"https://colab.research.google.com/github/amarsinghen/santander-product-recommendation/blob/master/Santander_Product_Recommendation.ipynb\" target=\"_parent\"><img src=\"https://colab.research.google.com/assets/colab-badge.svg\" alt=\"Open In Colab\"/></a>"
      ]
    },
    {
      "cell_type": "code",
      "metadata": {
        "id": "aeT-4QYhGaOn",
        "colab_type": "code",
        "colab": {}
      },
      "source": [
        "%tensorflow_version 2.x"
      ],
      "execution_count": 0,
      "outputs": []
    },
    {
      "cell_type": "code",
      "metadata": {
        "id": "Xpej3J54HIlJ",
        "colab_type": "code",
        "outputId": "a2267a4b-5dda-4997-aa55-705378da4076",
        "colab": {
          "base_uri": "https://localhost:8080/",
          "height": 34
        }
      },
      "source": [
        "import tensorflow as tf\n",
        "tf.__version__"
      ],
      "execution_count": 2,
      "outputs": [
        {
          "output_type": "execute_result",
          "data": {
            "text/plain": [
              "'2.2.0'"
            ]
          },
          "metadata": {
            "tags": []
          },
          "execution_count": 2
        }
      ]
    },
    {
      "cell_type": "code",
      "metadata": {
        "id": "mLJAchnaO1HZ",
        "colab_type": "code",
        "outputId": "91365bac-4179-4e5e-8570-5e824ebcb645",
        "colab": {
          "base_uri": "https://localhost:8080/",
          "height": 85
        }
      },
      "source": [
        "!nvidia-smi\n",
        "tf.config.experimental.list_physical_devices()"
      ],
      "execution_count": 3,
      "outputs": [
        {
          "output_type": "stream",
          "text": [
            "NVIDIA-SMI has failed because it couldn't communicate with the NVIDIA driver. Make sure that the latest NVIDIA driver is installed and running.\n",
            "\n"
          ],
          "name": "stdout"
        },
        {
          "output_type": "execute_result",
          "data": {
            "text/plain": [
              "[PhysicalDevice(name='/physical_device:CPU:0', device_type='CPU'),\n",
              " PhysicalDevice(name='/physical_device:XLA_CPU:0', device_type='XLA_CPU')]"
            ]
          },
          "metadata": {
            "tags": []
          },
          "execution_count": 3
        }
      ]
    },
    {
      "cell_type": "code",
      "metadata": {
        "id": "F5mMOIzYQcP1",
        "colab_type": "code",
        "outputId": "be68f1ff-a859-4c60-972c-8d8956d48c40",
        "colab": {
          "base_uri": "https://localhost:8080/",
          "height": 445
        }
      },
      "source": [
        "!lscpu"
      ],
      "execution_count": 4,
      "outputs": [
        {
          "output_type": "stream",
          "text": [
            "Architecture:        x86_64\n",
            "CPU op-mode(s):      32-bit, 64-bit\n",
            "Byte Order:          Little Endian\n",
            "CPU(s):              40\n",
            "On-line CPU(s) list: 0-39\n",
            "Thread(s) per core:  2\n",
            "Core(s) per socket:  20\n",
            "Socket(s):           1\n",
            "NUMA node(s):        1\n",
            "Vendor ID:           GenuineIntel\n",
            "CPU family:          6\n",
            "Model:               63\n",
            "Model name:          Intel(R) Xeon(R) CPU @ 2.30GHz\n",
            "Stepping:            0\n",
            "CPU MHz:             2300.000\n",
            "BogoMIPS:            4600.00\n",
            "Hypervisor vendor:   KVM\n",
            "Virtualization type: full\n",
            "L1d cache:           32K\n",
            "L1i cache:           32K\n",
            "L2 cache:            256K\n",
            "L3 cache:            46080K\n",
            "NUMA node0 CPU(s):   0-39\n",
            "Flags:               fpu vme de pse tsc msr pae mce cx8 apic sep mtrr pge mca cmov pat pse36 clflush mmx fxsr sse sse2 ss ht syscall nx pdpe1gb rdtscp lm constant_tsc rep_good nopl xtopology nonstop_tsc cpuid tsc_known_freq pni pclmulqdq ssse3 fma cx16 pcid sse4_1 sse4_2 x2apic movbe popcnt aes xsave avx f16c rdrand hypervisor lahf_lm abm invpcid_single ssbd ibrs ibpb stibp fsgsbase tsc_adjust bmi1 avx2 smep bmi2 erms invpcid xsaveopt arat md_clear arch_capabilities\n"
          ],
          "name": "stdout"
        }
      ]
    },
    {
      "cell_type": "markdown",
      "metadata": {
        "id": "QMSmsH5ZEFIe",
        "colab_type": "text"
      },
      "source": [
        "Importing the train and test data from google drive"
      ]
    },
    {
      "cell_type": "code",
      "metadata": {
        "id": "WcuGguiRAnYd",
        "colab_type": "code",
        "colab": {}
      },
      "source": [
        "import zipfile\n",
        "files = ['train_ver2.csv.zip', 'test_ver2.csv.zip']\n",
        "for file in files:\n",
        "  local_zip = '/content/drive/My Drive/datasets/santander-product-recommendation/' + file\n",
        "  zip_ref = zipfile.ZipFile(local_zip, 'r')\n",
        "  zip_ref.extractall('/tmp')\n",
        "  zip_ref.close()"
      ],
      "execution_count": 0,
      "outputs": []
    },
    {
      "cell_type": "code",
      "metadata": {
        "id": "cS95yyLJLurT",
        "colab_type": "code",
        "colab": {}
      },
      "source": [
        "# !cp sample_data '/content/drive/My Drive/datasets/santander-product-recommendation/'"
      ],
      "execution_count": 0,
      "outputs": []
    },
    {
      "cell_type": "code",
      "metadata": {
        "id": "I316huOzPUus",
        "colab_type": "code",
        "outputId": "abad9250-ec3a-4001-9bd4-5080b8b13c2c",
        "colab": {
          "base_uri": "https://localhost:8080/",
          "height": 207
        }
      },
      "source": [
        "!head -10 '/tmp/train_ver2.csv'"
      ],
      "execution_count": 7,
      "outputs": [
        {
          "output_type": "stream",
          "text": [
            "\"fecha_dato\",\"ncodpers\",\"ind_empleado\",\"pais_residencia\",\"sexo\",\"age\",\"fecha_alta\",\"ind_nuevo\",\"antiguedad\",\"indrel\",\"ult_fec_cli_1t\",\"indrel_1mes\",\"tiprel_1mes\",\"indresi\",\"indext\",\"conyuemp\",\"canal_entrada\",\"indfall\",\"tipodom\",\"cod_prov\",\"nomprov\",\"ind_actividad_cliente\",\"renta\",\"segmento\",\"ind_ahor_fin_ult1\",\"ind_aval_fin_ult1\",\"ind_cco_fin_ult1\",\"ind_cder_fin_ult1\",\"ind_cno_fin_ult1\",\"ind_ctju_fin_ult1\",\"ind_ctma_fin_ult1\",\"ind_ctop_fin_ult1\",\"ind_ctpp_fin_ult1\",\"ind_deco_fin_ult1\",\"ind_deme_fin_ult1\",\"ind_dela_fin_ult1\",\"ind_ecue_fin_ult1\",\"ind_fond_fin_ult1\",\"ind_hip_fin_ult1\",\"ind_plan_fin_ult1\",\"ind_pres_fin_ult1\",\"ind_reca_fin_ult1\",\"ind_tjcr_fin_ult1\",\"ind_valo_fin_ult1\",\"ind_viv_fin_ult1\",\"ind_nomina_ult1\",\"ind_nom_pens_ult1\",\"ind_recibo_ult1\"\n",
            "2015-01-28,1375586,N,ES,H, 35,2015-01-12, 0,      6, 1,,1.0,A,S,N,,KHL,N, 1,29,\"MALAGA\", 1,87218.1,02 - PARTICULARES,0,0,1,0,0,0,0,0,0,0,0,0,0,0,0,0,0,0,0,0,0, 0, 0,0\n",
            "2015-01-28,1050611,N,ES,V, 23,2012-08-10, 0,     35, 1,,1,I,S,S,,KHE,N, 1,13,\"CIUDAD REAL\", 0,35548.74,03 - UNIVERSITARIO,0,0,1,0,0,0,0,0,0,0,0,0,0,0,0,0,0,0,0,0,0, 0, 0,0\n",
            "2015-01-28,1050612,N,ES,V, 23,2012-08-10, 0,     35, 1,,1,I,S,N,,KHE,N, 1,13,\"CIUDAD REAL\", 0,122179.11000000002,03 - UNIVERSITARIO,0,0,1,0,0,0,0,0,0,0,0,0,0,0,0,0,0,0,0,0,0, 0, 0,0\n",
            "2015-01-28,1050613,N,ES,H, 22,2012-08-10, 0,     35, 1,,1,I,S,N,,KHD,N, 1,50,\"ZARAGOZA\", 0,119775.54,03 - UNIVERSITARIO,0,0,0,0,0,0,0,0,0,1,0,0,0,0,0,0,0,0,0,0,0, 0, 0,0\n",
            "2015-01-28,1050614,N,ES,V, 23,2012-08-10, 0,     35, 1,,1,A,S,N,,KHE,N, 1,50,\"ZARAGOZA\", 1,,03 - UNIVERSITARIO,0,0,1,0,0,0,0,0,0,0,0,0,0,0,0,0,0,0,0,0,0, 0, 0,0\n",
            "2015-01-28,1050615,N,ES,H, 23,2012-08-10, 0,     35, 1,,1,I,S,N,,KHE,N, 1,45,\"TOLEDO\", 0,22220.04,03 - UNIVERSITARIO,0,0,1,0,0,0,0,0,0,0,0,0,0,0,0,0,0,0,0,0,0, 0, 0,0\n",
            "2015-01-28,1050616,N,ES,H, 23,2012-08-10, 0,     35, 1,,1,I,S,N,,KHE,N, 1,24,\"LEON\", 0,295590.36,03 - UNIVERSITARIO,0,0,1,0,0,0,0,0,0,0,0,0,0,0,0,0,0,0,0,0,0, 0, 0,0\n",
            "2015-01-28,1050617,N,ES,H, 23,2012-08-10, 0,     35, 1,,1,A,S,N,,KHE,N, 1,50,\"ZARAGOZA\", 1,113316.66,03 - UNIVERSITARIO,0,0,1,0,0,0,0,0,0,0,0,0,0,0,0,0,0,0,0,0,0, 0, 0,0\n",
            "2015-01-28,1050619,N,ES,H, 24,2012-08-10, 0,     35, 1,,1,I,S,N,,KHE,N, 1,20,\"GIPUZKOA\", 0,,03 - UNIVERSITARIO,0,0,1,0,0,0,0,0,0,0,0,0,0,0,0,0,0,0,0,0,0, 0, 0,0\n"
          ],
          "name": "stdout"
        }
      ]
    },
    {
      "cell_type": "markdown",
      "metadata": {
        "id": "afrQX75kWO1X",
        "colab_type": "text"
      },
      "source": [
        "![image.png](data:image/png;base64,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)"
      ]
    },
    {
      "cell_type": "code",
      "metadata": {
        "id": "C5xl2RHlzr7i",
        "colab_type": "code",
        "outputId": "161267b9-22aa-4e32-8421-52a44c6c2ac6",
        "colab": {
          "base_uri": "https://localhost:8080/",
          "height": 51
        }
      },
      "source": [
        "import pandas as pd\n",
        "spr_train_df = pd.read_csv('/tmp/train_ver2.csv')"
      ],
      "execution_count": 8,
      "outputs": [
        {
          "output_type": "stream",
          "text": [
            "/usr/local/lib/python3.6/dist-packages/IPython/core/interactiveshell.py:2718: DtypeWarning: Columns (5,8,11,15) have mixed types.Specify dtype option on import or set low_memory=False.\n",
            "  interactivity=interactivity, compiler=compiler, result=result)\n"
          ],
          "name": "stderr"
        }
      ]
    },
    {
      "cell_type": "code",
      "metadata": {
        "id": "b4Db-Ciggc5A",
        "colab_type": "code",
        "colab": {}
      },
      "source": [
        "# spr_test_df = pd.read_csv('/tmp/test_ver2.csv')"
      ],
      "execution_count": 0,
      "outputs": []
    },
    {
      "cell_type": "markdown",
      "metadata": {
        "id": "jdR3LHKYcVIs",
        "colab_type": "text"
      },
      "source": [
        "### Column Names\n"
      ]
    },
    {
      "cell_type": "code",
      "metadata": {
        "id": "NUlrwDizEcMl",
        "colab_type": "code",
        "outputId": "593f4804-a45b-4c3d-babc-5b50aa8323c4",
        "colab": {
          "base_uri": "https://localhost:8080/",
          "height": 255
        }
      },
      "source": [
        "spr_train_df.columns"
      ],
      "execution_count": 10,
      "outputs": [
        {
          "output_type": "execute_result",
          "data": {
            "text/plain": [
              "Index(['fecha_dato', 'ncodpers', 'ind_empleado', 'pais_residencia', 'sexo',\n",
              "       'age', 'fecha_alta', 'ind_nuevo', 'antiguedad', 'indrel',\n",
              "       'ult_fec_cli_1t', 'indrel_1mes', 'tiprel_1mes', 'indresi', 'indext',\n",
              "       'conyuemp', 'canal_entrada', 'indfall', 'tipodom', 'cod_prov',\n",
              "       'nomprov', 'ind_actividad_cliente', 'renta', 'segmento',\n",
              "       'ind_ahor_fin_ult1', 'ind_aval_fin_ult1', 'ind_cco_fin_ult1',\n",
              "       'ind_cder_fin_ult1', 'ind_cno_fin_ult1', 'ind_ctju_fin_ult1',\n",
              "       'ind_ctma_fin_ult1', 'ind_ctop_fin_ult1', 'ind_ctpp_fin_ult1',\n",
              "       'ind_deco_fin_ult1', 'ind_deme_fin_ult1', 'ind_dela_fin_ult1',\n",
              "       'ind_ecue_fin_ult1', 'ind_fond_fin_ult1', 'ind_hip_fin_ult1',\n",
              "       'ind_plan_fin_ult1', 'ind_pres_fin_ult1', 'ind_reca_fin_ult1',\n",
              "       'ind_tjcr_fin_ult1', 'ind_valo_fin_ult1', 'ind_viv_fin_ult1',\n",
              "       'ind_nomina_ult1', 'ind_nom_pens_ult1', 'ind_recibo_ult1'],\n",
              "      dtype='object')"
            ]
          },
          "metadata": {
            "tags": []
          },
          "execution_count": 10
        }
      ]
    },
    {
      "cell_type": "code",
      "metadata": {
        "id": "bDZkVm3p0CeX",
        "colab_type": "code",
        "colab": {}
      },
      "source": [
        "spr_train_df.columns = ['date','customer_code','employee_index','country_residence','sex','age','date_first_joined','new_customer_index','customer_seniority_in_months','index_first_end_of_month','last_date_as_primary_customer','customer_type_month_begin','customer_relation_month_begin','resident','foreigner','employee_spouse','channel_used','deceased','address_type','province_code','province_name','active_customer','household_gross','segmentation','saving_account','guarantees','current_accounts','derivada_account','payroll_account','junior_account','mas_particular_account','particular_account','particular_plus_account','short_term_deposits','medium_term_deposits','long_term_deposits','e_account','funds','mortgage','pensions_1','loans','taxes','credit_card','securities','home_account','payroll','pensions_2','direct_debit']"
      ],
      "execution_count": 0,
      "outputs": []
    },
    {
      "cell_type": "code",
      "metadata": {
        "id": "OmAOPb5gYU3-",
        "colab_type": "code",
        "outputId": "7a84a87e-3b72-4bd5-f862-56a836134827",
        "colab": {
          "base_uri": "https://localhost:8080/",
          "height": 272
        }
      },
      "source": [
        "spr_train_df.columns"
      ],
      "execution_count": 12,
      "outputs": [
        {
          "output_type": "execute_result",
          "data": {
            "text/plain": [
              "Index(['date', 'customer_code', 'employee_index', 'country_residence', 'sex',\n",
              "       'age', 'date_first_joined', 'new_customer_index',\n",
              "       'customer_seniority_in_months', 'index_first_end_of_month',\n",
              "       'last_date_as_primary_customer', 'customer_type_month_begin',\n",
              "       'customer_relation_month_begin', 'resident', 'foreigner',\n",
              "       'employee_spouse', 'channel_used', 'deceased', 'address_type',\n",
              "       'province_code', 'province_name', 'active_customer', 'household_gross',\n",
              "       'segmentation', 'saving_account', 'guarantees', 'current_accounts',\n",
              "       'derivada_account', 'payroll_account', 'junior_account',\n",
              "       'mas_particular_account', 'particular_account',\n",
              "       'particular_plus_account', 'short_term_deposits',\n",
              "       'medium_term_deposits', 'long_term_deposits', 'e_account', 'funds',\n",
              "       'mortgage', 'pensions_1', 'loans', 'taxes', 'credit_card', 'securities',\n",
              "       'home_account', 'payroll', 'pensions_2', 'direct_debit'],\n",
              "      dtype='object')"
            ]
          },
          "metadata": {
            "tags": []
          },
          "execution_count": 12
        }
      ]
    },
    {
      "cell_type": "code",
      "metadata": {
        "id": "effHVlJxkCHW",
        "colab_type": "code",
        "colab": {}
      },
      "source": [
        "# spr_test_df.columns"
      ],
      "execution_count": 0,
      "outputs": []
    },
    {
      "cell_type": "code",
      "metadata": {
        "id": "tq3x4TfinHYW",
        "colab_type": "code",
        "colab": {}
      },
      "source": [
        "# spr_test_df.columns = ['date','customer_code','employee_index','country_residence','sex','age','date_first_joined','new_customer_index','customer_seniority_in_months','index_first_end_of_month','last_date_as_primary_customer','customer_type_month_begin','customer_relation_month_begin','resident','foreigner','employee_spouse','channel_used','deceased','address_type','province_code','province_name','active_customer','household_gross','segmentation']"
      ],
      "execution_count": 0,
      "outputs": []
    },
    {
      "cell_type": "code",
      "metadata": {
        "id": "8Q1mqAHunlur",
        "colab_type": "code",
        "colab": {}
      },
      "source": [
        "# spr_test_df.columns"
      ],
      "execution_count": 0,
      "outputs": []
    },
    {
      "cell_type": "markdown",
      "metadata": {
        "id": "4uWtbvlXccf5",
        "colab_type": "text"
      },
      "source": [
        "### Sample DF Data"
      ]
    },
    {
      "cell_type": "code",
      "metadata": {
        "id": "2tq7wu8TaRAi",
        "colab_type": "code",
        "outputId": "2f2369c7-5f09-4f26-fbaf-519da4ce71ee",
        "colab": {
          "base_uri": "https://localhost:8080/",
          "height": 309
        }
      },
      "source": [
        "spr_train_df[:5]"
      ],
      "execution_count": 16,
      "outputs": [
        {
          "output_type": "execute_result",
          "data": {
            "text/html": [
              "<div>\n",
              "<style scoped>\n",
              "    .dataframe tbody tr th:only-of-type {\n",
              "        vertical-align: middle;\n",
              "    }\n",
              "\n",
              "    .dataframe tbody tr th {\n",
              "        vertical-align: top;\n",
              "    }\n",
              "\n",
              "    .dataframe thead th {\n",
              "        text-align: right;\n",
              "    }\n",
              "</style>\n",
              "<table border=\"1\" class=\"dataframe\">\n",
              "  <thead>\n",
              "    <tr style=\"text-align: right;\">\n",
              "      <th></th>\n",
              "      <th>date</th>\n",
              "      <th>customer_code</th>\n",
              "      <th>employee_index</th>\n",
              "      <th>country_residence</th>\n",
              "      <th>sex</th>\n",
              "      <th>age</th>\n",
              "      <th>date_first_joined</th>\n",
              "      <th>new_customer_index</th>\n",
              "      <th>customer_seniority_in_months</th>\n",
              "      <th>index_first_end_of_month</th>\n",
              "      <th>last_date_as_primary_customer</th>\n",
              "      <th>customer_type_month_begin</th>\n",
              "      <th>customer_relation_month_begin</th>\n",
              "      <th>resident</th>\n",
              "      <th>foreigner</th>\n",
              "      <th>employee_spouse</th>\n",
              "      <th>channel_used</th>\n",
              "      <th>deceased</th>\n",
              "      <th>address_type</th>\n",
              "      <th>province_code</th>\n",
              "      <th>province_name</th>\n",
              "      <th>active_customer</th>\n",
              "      <th>household_gross</th>\n",
              "      <th>segmentation</th>\n",
              "      <th>saving_account</th>\n",
              "      <th>guarantees</th>\n",
              "      <th>current_accounts</th>\n",
              "      <th>derivada_account</th>\n",
              "      <th>payroll_account</th>\n",
              "      <th>junior_account</th>\n",
              "      <th>mas_particular_account</th>\n",
              "      <th>particular_account</th>\n",
              "      <th>particular_plus_account</th>\n",
              "      <th>short_term_deposits</th>\n",
              "      <th>medium_term_deposits</th>\n",
              "      <th>long_term_deposits</th>\n",
              "      <th>e_account</th>\n",
              "      <th>funds</th>\n",
              "      <th>mortgage</th>\n",
              "      <th>pensions_1</th>\n",
              "      <th>loans</th>\n",
              "      <th>taxes</th>\n",
              "      <th>credit_card</th>\n",
              "      <th>securities</th>\n",
              "      <th>home_account</th>\n",
              "      <th>payroll</th>\n",
              "      <th>pensions_2</th>\n",
              "      <th>direct_debit</th>\n",
              "    </tr>\n",
              "  </thead>\n",
              "  <tbody>\n",
              "    <tr>\n",
              "      <th>0</th>\n",
              "      <td>2015-01-28</td>\n",
              "      <td>1375586</td>\n",
              "      <td>N</td>\n",
              "      <td>ES</td>\n",
              "      <td>H</td>\n",
              "      <td>35</td>\n",
              "      <td>2015-01-12</td>\n",
              "      <td>0.0</td>\n",
              "      <td>6</td>\n",
              "      <td>1.0</td>\n",
              "      <td>NaN</td>\n",
              "      <td>1</td>\n",
              "      <td>A</td>\n",
              "      <td>S</td>\n",
              "      <td>N</td>\n",
              "      <td>NaN</td>\n",
              "      <td>KHL</td>\n",
              "      <td>N</td>\n",
              "      <td>1.0</td>\n",
              "      <td>29.0</td>\n",
              "      <td>MALAGA</td>\n",
              "      <td>1.0</td>\n",
              "      <td>87218.10</td>\n",
              "      <td>02 - PARTICULARES</td>\n",
              "      <td>0</td>\n",
              "      <td>0</td>\n",
              "      <td>1</td>\n",
              "      <td>0</td>\n",
              "      <td>0</td>\n",
              "      <td>0</td>\n",
              "      <td>0</td>\n",
              "      <td>0</td>\n",
              "      <td>0</td>\n",
              "      <td>0</td>\n",
              "      <td>0</td>\n",
              "      <td>0</td>\n",
              "      <td>0</td>\n",
              "      <td>0</td>\n",
              "      <td>0</td>\n",
              "      <td>0</td>\n",
              "      <td>0</td>\n",
              "      <td>0</td>\n",
              "      <td>0</td>\n",
              "      <td>0</td>\n",
              "      <td>0</td>\n",
              "      <td>0.0</td>\n",
              "      <td>0.0</td>\n",
              "      <td>0</td>\n",
              "    </tr>\n",
              "    <tr>\n",
              "      <th>1</th>\n",
              "      <td>2015-01-28</td>\n",
              "      <td>1050611</td>\n",
              "      <td>N</td>\n",
              "      <td>ES</td>\n",
              "      <td>V</td>\n",
              "      <td>23</td>\n",
              "      <td>2012-08-10</td>\n",
              "      <td>0.0</td>\n",
              "      <td>35</td>\n",
              "      <td>1.0</td>\n",
              "      <td>NaN</td>\n",
              "      <td>1</td>\n",
              "      <td>I</td>\n",
              "      <td>S</td>\n",
              "      <td>S</td>\n",
              "      <td>NaN</td>\n",
              "      <td>KHE</td>\n",
              "      <td>N</td>\n",
              "      <td>1.0</td>\n",
              "      <td>13.0</td>\n",
              "      <td>CIUDAD REAL</td>\n",
              "      <td>0.0</td>\n",
              "      <td>35548.74</td>\n",
              "      <td>03 - UNIVERSITARIO</td>\n",
              "      <td>0</td>\n",
              "      <td>0</td>\n",
              "      <td>1</td>\n",
              "      <td>0</td>\n",
              "      <td>0</td>\n",
              "      <td>0</td>\n",
              "      <td>0</td>\n",
              "      <td>0</td>\n",
              "      <td>0</td>\n",
              "      <td>0</td>\n",
              "      <td>0</td>\n",
              "      <td>0</td>\n",
              "      <td>0</td>\n",
              "      <td>0</td>\n",
              "      <td>0</td>\n",
              "      <td>0</td>\n",
              "      <td>0</td>\n",
              "      <td>0</td>\n",
              "      <td>0</td>\n",
              "      <td>0</td>\n",
              "      <td>0</td>\n",
              "      <td>0.0</td>\n",
              "      <td>0.0</td>\n",
              "      <td>0</td>\n",
              "    </tr>\n",
              "    <tr>\n",
              "      <th>2</th>\n",
              "      <td>2015-01-28</td>\n",
              "      <td>1050612</td>\n",
              "      <td>N</td>\n",
              "      <td>ES</td>\n",
              "      <td>V</td>\n",
              "      <td>23</td>\n",
              "      <td>2012-08-10</td>\n",
              "      <td>0.0</td>\n",
              "      <td>35</td>\n",
              "      <td>1.0</td>\n",
              "      <td>NaN</td>\n",
              "      <td>1</td>\n",
              "      <td>I</td>\n",
              "      <td>S</td>\n",
              "      <td>N</td>\n",
              "      <td>NaN</td>\n",
              "      <td>KHE</td>\n",
              "      <td>N</td>\n",
              "      <td>1.0</td>\n",
              "      <td>13.0</td>\n",
              "      <td>CIUDAD REAL</td>\n",
              "      <td>0.0</td>\n",
              "      <td>122179.11</td>\n",
              "      <td>03 - UNIVERSITARIO</td>\n",
              "      <td>0</td>\n",
              "      <td>0</td>\n",
              "      <td>1</td>\n",
              "      <td>0</td>\n",
              "      <td>0</td>\n",
              "      <td>0</td>\n",
              "      <td>0</td>\n",
              "      <td>0</td>\n",
              "      <td>0</td>\n",
              "      <td>0</td>\n",
              "      <td>0</td>\n",
              "      <td>0</td>\n",
              "      <td>0</td>\n",
              "      <td>0</td>\n",
              "      <td>0</td>\n",
              "      <td>0</td>\n",
              "      <td>0</td>\n",
              "      <td>0</td>\n",
              "      <td>0</td>\n",
              "      <td>0</td>\n",
              "      <td>0</td>\n",
              "      <td>0.0</td>\n",
              "      <td>0.0</td>\n",
              "      <td>0</td>\n",
              "    </tr>\n",
              "    <tr>\n",
              "      <th>3</th>\n",
              "      <td>2015-01-28</td>\n",
              "      <td>1050613</td>\n",
              "      <td>N</td>\n",
              "      <td>ES</td>\n",
              "      <td>H</td>\n",
              "      <td>22</td>\n",
              "      <td>2012-08-10</td>\n",
              "      <td>0.0</td>\n",
              "      <td>35</td>\n",
              "      <td>1.0</td>\n",
              "      <td>NaN</td>\n",
              "      <td>1</td>\n",
              "      <td>I</td>\n",
              "      <td>S</td>\n",
              "      <td>N</td>\n",
              "      <td>NaN</td>\n",
              "      <td>KHD</td>\n",
              "      <td>N</td>\n",
              "      <td>1.0</td>\n",
              "      <td>50.0</td>\n",
              "      <td>ZARAGOZA</td>\n",
              "      <td>0.0</td>\n",
              "      <td>119775.54</td>\n",
              "      <td>03 - UNIVERSITARIO</td>\n",
              "      <td>0</td>\n",
              "      <td>0</td>\n",
              "      <td>0</td>\n",
              "      <td>0</td>\n",
              "      <td>0</td>\n",
              "      <td>0</td>\n",
              "      <td>0</td>\n",
              "      <td>0</td>\n",
              "      <td>0</td>\n",
              "      <td>1</td>\n",
              "      <td>0</td>\n",
              "      <td>0</td>\n",
              "      <td>0</td>\n",
              "      <td>0</td>\n",
              "      <td>0</td>\n",
              "      <td>0</td>\n",
              "      <td>0</td>\n",
              "      <td>0</td>\n",
              "      <td>0</td>\n",
              "      <td>0</td>\n",
              "      <td>0</td>\n",
              "      <td>0.0</td>\n",
              "      <td>0.0</td>\n",
              "      <td>0</td>\n",
              "    </tr>\n",
              "    <tr>\n",
              "      <th>4</th>\n",
              "      <td>2015-01-28</td>\n",
              "      <td>1050614</td>\n",
              "      <td>N</td>\n",
              "      <td>ES</td>\n",
              "      <td>V</td>\n",
              "      <td>23</td>\n",
              "      <td>2012-08-10</td>\n",
              "      <td>0.0</td>\n",
              "      <td>35</td>\n",
              "      <td>1.0</td>\n",
              "      <td>NaN</td>\n",
              "      <td>1</td>\n",
              "      <td>A</td>\n",
              "      <td>S</td>\n",
              "      <td>N</td>\n",
              "      <td>NaN</td>\n",
              "      <td>KHE</td>\n",
              "      <td>N</td>\n",
              "      <td>1.0</td>\n",
              "      <td>50.0</td>\n",
              "      <td>ZARAGOZA</td>\n",
              "      <td>1.0</td>\n",
              "      <td>NaN</td>\n",
              "      <td>03 - UNIVERSITARIO</td>\n",
              "      <td>0</td>\n",
              "      <td>0</td>\n",
              "      <td>1</td>\n",
              "      <td>0</td>\n",
              "      <td>0</td>\n",
              "      <td>0</td>\n",
              "      <td>0</td>\n",
              "      <td>0</td>\n",
              "      <td>0</td>\n",
              "      <td>0</td>\n",
              "      <td>0</td>\n",
              "      <td>0</td>\n",
              "      <td>0</td>\n",
              "      <td>0</td>\n",
              "      <td>0</td>\n",
              "      <td>0</td>\n",
              "      <td>0</td>\n",
              "      <td>0</td>\n",
              "      <td>0</td>\n",
              "      <td>0</td>\n",
              "      <td>0</td>\n",
              "      <td>0.0</td>\n",
              "      <td>0.0</td>\n",
              "      <td>0</td>\n",
              "    </tr>\n",
              "  </tbody>\n",
              "</table>\n",
              "</div>"
            ],
            "text/plain": [
              "         date  customer_code employee_index  ... payroll pensions_2 direct_debit\n",
              "0  2015-01-28        1375586              N  ...     0.0        0.0            0\n",
              "1  2015-01-28        1050611              N  ...     0.0        0.0            0\n",
              "2  2015-01-28        1050612              N  ...     0.0        0.0            0\n",
              "3  2015-01-28        1050613              N  ...     0.0        0.0            0\n",
              "4  2015-01-28        1050614              N  ...     0.0        0.0            0\n",
              "\n",
              "[5 rows x 48 columns]"
            ]
          },
          "metadata": {
            "tags": []
          },
          "execution_count": 16
        }
      ]
    },
    {
      "cell_type": "code",
      "metadata": {
        "id": "EJf0L1AgnpHC",
        "colab_type": "code",
        "colab": {}
      },
      "source": [
        "# spr_test_df[:5]"
      ],
      "execution_count": 0,
      "outputs": []
    },
    {
      "cell_type": "code",
      "metadata": {
        "id": "VWShJIpKaPx8",
        "colab_type": "code",
        "colab": {}
      },
      "source": [
        "# from pandas_profiling import ProfileReport"
      ],
      "execution_count": 0,
      "outputs": []
    },
    {
      "cell_type": "markdown",
      "metadata": {
        "id": "Wz2XeCVacNOe",
        "colab_type": "text"
      },
      "source": [
        "### TRAIN DF PROFILE"
      ]
    },
    {
      "cell_type": "code",
      "metadata": {
        "id": "61x2Lan6TSPT",
        "colab_type": "code",
        "colab": {}
      },
      "source": [
        "# ProfileReport(spr_train_df)"
      ],
      "execution_count": 0,
      "outputs": []
    },
    {
      "cell_type": "markdown",
      "metadata": {
        "id": "u8i8kEa-cDiV",
        "colab_type": "text"
      },
      "source": [
        "### TEST DF PROFILE"
      ]
    },
    {
      "cell_type": "code",
      "metadata": {
        "id": "6A2QAt7iTXdM",
        "colab_type": "code",
        "colab": {}
      },
      "source": [
        "# ProfileReport(spr_test_df)"
      ],
      "execution_count": 0,
      "outputs": []
    },
    {
      "cell_type": "markdown",
      "metadata": {
        "id": "Ug2dYnZW3Ghv",
        "colab_type": "text"
      },
      "source": [
        "### Creating New Dataframes for Data Processing"
      ]
    },
    {
      "cell_type": "code",
      "metadata": {
        "id": "Eakhv4PJ3Dvz",
        "colab_type": "code",
        "colab": {}
      },
      "source": [
        "spr_train_processed_df = spr_train_df"
      ],
      "execution_count": 0,
      "outputs": []
    },
    {
      "cell_type": "code",
      "metadata": {
        "id": "Q_DolsfP3Zqf",
        "colab_type": "code",
        "outputId": "742a3254-c536-4d3c-f866-f65442bbaf47",
        "colab": {
          "base_uri": "https://localhost:8080/",
          "height": 165
        }
      },
      "source": [
        "spr_train_processed_df[:2]"
      ],
      "execution_count": 22,
      "outputs": [
        {
          "output_type": "execute_result",
          "data": {
            "text/html": [
              "<div>\n",
              "<style scoped>\n",
              "    .dataframe tbody tr th:only-of-type {\n",
              "        vertical-align: middle;\n",
              "    }\n",
              "\n",
              "    .dataframe tbody tr th {\n",
              "        vertical-align: top;\n",
              "    }\n",
              "\n",
              "    .dataframe thead th {\n",
              "        text-align: right;\n",
              "    }\n",
              "</style>\n",
              "<table border=\"1\" class=\"dataframe\">\n",
              "  <thead>\n",
              "    <tr style=\"text-align: right;\">\n",
              "      <th></th>\n",
              "      <th>date</th>\n",
              "      <th>customer_code</th>\n",
              "      <th>employee_index</th>\n",
              "      <th>country_residence</th>\n",
              "      <th>sex</th>\n",
              "      <th>age</th>\n",
              "      <th>date_first_joined</th>\n",
              "      <th>new_customer_index</th>\n",
              "      <th>customer_seniority_in_months</th>\n",
              "      <th>index_first_end_of_month</th>\n",
              "      <th>last_date_as_primary_customer</th>\n",
              "      <th>customer_type_month_begin</th>\n",
              "      <th>customer_relation_month_begin</th>\n",
              "      <th>resident</th>\n",
              "      <th>foreigner</th>\n",
              "      <th>employee_spouse</th>\n",
              "      <th>channel_used</th>\n",
              "      <th>deceased</th>\n",
              "      <th>address_type</th>\n",
              "      <th>province_code</th>\n",
              "      <th>province_name</th>\n",
              "      <th>active_customer</th>\n",
              "      <th>household_gross</th>\n",
              "      <th>segmentation</th>\n",
              "      <th>saving_account</th>\n",
              "      <th>guarantees</th>\n",
              "      <th>current_accounts</th>\n",
              "      <th>derivada_account</th>\n",
              "      <th>payroll_account</th>\n",
              "      <th>junior_account</th>\n",
              "      <th>mas_particular_account</th>\n",
              "      <th>particular_account</th>\n",
              "      <th>particular_plus_account</th>\n",
              "      <th>short_term_deposits</th>\n",
              "      <th>medium_term_deposits</th>\n",
              "      <th>long_term_deposits</th>\n",
              "      <th>e_account</th>\n",
              "      <th>funds</th>\n",
              "      <th>mortgage</th>\n",
              "      <th>pensions_1</th>\n",
              "      <th>loans</th>\n",
              "      <th>taxes</th>\n",
              "      <th>credit_card</th>\n",
              "      <th>securities</th>\n",
              "      <th>home_account</th>\n",
              "      <th>payroll</th>\n",
              "      <th>pensions_2</th>\n",
              "      <th>direct_debit</th>\n",
              "    </tr>\n",
              "  </thead>\n",
              "  <tbody>\n",
              "    <tr>\n",
              "      <th>0</th>\n",
              "      <td>2015-01-28</td>\n",
              "      <td>1375586</td>\n",
              "      <td>N</td>\n",
              "      <td>ES</td>\n",
              "      <td>H</td>\n",
              "      <td>35</td>\n",
              "      <td>2015-01-12</td>\n",
              "      <td>0.0</td>\n",
              "      <td>6</td>\n",
              "      <td>1.0</td>\n",
              "      <td>NaN</td>\n",
              "      <td>1</td>\n",
              "      <td>A</td>\n",
              "      <td>S</td>\n",
              "      <td>N</td>\n",
              "      <td>NaN</td>\n",
              "      <td>KHL</td>\n",
              "      <td>N</td>\n",
              "      <td>1.0</td>\n",
              "      <td>29.0</td>\n",
              "      <td>MALAGA</td>\n",
              "      <td>1.0</td>\n",
              "      <td>87218.10</td>\n",
              "      <td>02 - PARTICULARES</td>\n",
              "      <td>0</td>\n",
              "      <td>0</td>\n",
              "      <td>1</td>\n",
              "      <td>0</td>\n",
              "      <td>0</td>\n",
              "      <td>0</td>\n",
              "      <td>0</td>\n",
              "      <td>0</td>\n",
              "      <td>0</td>\n",
              "      <td>0</td>\n",
              "      <td>0</td>\n",
              "      <td>0</td>\n",
              "      <td>0</td>\n",
              "      <td>0</td>\n",
              "      <td>0</td>\n",
              "      <td>0</td>\n",
              "      <td>0</td>\n",
              "      <td>0</td>\n",
              "      <td>0</td>\n",
              "      <td>0</td>\n",
              "      <td>0</td>\n",
              "      <td>0.0</td>\n",
              "      <td>0.0</td>\n",
              "      <td>0</td>\n",
              "    </tr>\n",
              "    <tr>\n",
              "      <th>1</th>\n",
              "      <td>2015-01-28</td>\n",
              "      <td>1050611</td>\n",
              "      <td>N</td>\n",
              "      <td>ES</td>\n",
              "      <td>V</td>\n",
              "      <td>23</td>\n",
              "      <td>2012-08-10</td>\n",
              "      <td>0.0</td>\n",
              "      <td>35</td>\n",
              "      <td>1.0</td>\n",
              "      <td>NaN</td>\n",
              "      <td>1</td>\n",
              "      <td>I</td>\n",
              "      <td>S</td>\n",
              "      <td>S</td>\n",
              "      <td>NaN</td>\n",
              "      <td>KHE</td>\n",
              "      <td>N</td>\n",
              "      <td>1.0</td>\n",
              "      <td>13.0</td>\n",
              "      <td>CIUDAD REAL</td>\n",
              "      <td>0.0</td>\n",
              "      <td>35548.74</td>\n",
              "      <td>03 - UNIVERSITARIO</td>\n",
              "      <td>0</td>\n",
              "      <td>0</td>\n",
              "      <td>1</td>\n",
              "      <td>0</td>\n",
              "      <td>0</td>\n",
              "      <td>0</td>\n",
              "      <td>0</td>\n",
              "      <td>0</td>\n",
              "      <td>0</td>\n",
              "      <td>0</td>\n",
              "      <td>0</td>\n",
              "      <td>0</td>\n",
              "      <td>0</td>\n",
              "      <td>0</td>\n",
              "      <td>0</td>\n",
              "      <td>0</td>\n",
              "      <td>0</td>\n",
              "      <td>0</td>\n",
              "      <td>0</td>\n",
              "      <td>0</td>\n",
              "      <td>0</td>\n",
              "      <td>0.0</td>\n",
              "      <td>0.0</td>\n",
              "      <td>0</td>\n",
              "    </tr>\n",
              "  </tbody>\n",
              "</table>\n",
              "</div>"
            ],
            "text/plain": [
              "         date  customer_code employee_index  ... payroll pensions_2 direct_debit\n",
              "0  2015-01-28        1375586              N  ...     0.0        0.0            0\n",
              "1  2015-01-28        1050611              N  ...     0.0        0.0            0\n",
              "\n",
              "[2 rows x 48 columns]"
            ]
          },
          "metadata": {
            "tags": []
          },
          "execution_count": 22
        }
      ]
    },
    {
      "cell_type": "code",
      "metadata": {
        "id": "8b2IliIv3rrL",
        "colab_type": "code",
        "colab": {}
      },
      "source": [
        "# spr_test_processed_df = spr_test_df"
      ],
      "execution_count": 0,
      "outputs": []
    },
    {
      "cell_type": "code",
      "metadata": {
        "id": "OWvF0DLH30Ks",
        "colab_type": "code",
        "colab": {}
      },
      "source": [
        "# spr_test_processed_df[:2]"
      ],
      "execution_count": 0,
      "outputs": []
    },
    {
      "cell_type": "markdown",
      "metadata": {
        "id": "oXxLdoTuolmK",
        "colab_type": "text"
      },
      "source": [
        "### Verifying which columns have null values"
      ]
    },
    {
      "cell_type": "code",
      "metadata": {
        "id": "7UzOSkNjn29-",
        "colab_type": "code",
        "outputId": "f72e518a-e003-4037-ec08-4c8fb955df51",
        "colab": {
          "base_uri": "https://localhost:8080/",
          "height": 850
        }
      },
      "source": [
        "spr_train_processed_df.isnull().any()"
      ],
      "execution_count": 25,
      "outputs": [
        {
          "output_type": "execute_result",
          "data": {
            "text/plain": [
              "date                             False\n",
              "customer_code                    False\n",
              "employee_index                    True\n",
              "country_residence                 True\n",
              "sex                               True\n",
              "age                              False\n",
              "date_first_joined                 True\n",
              "new_customer_index                True\n",
              "customer_seniority_in_months     False\n",
              "index_first_end_of_month          True\n",
              "last_date_as_primary_customer     True\n",
              "customer_type_month_begin         True\n",
              "customer_relation_month_begin     True\n",
              "resident                          True\n",
              "foreigner                         True\n",
              "employee_spouse                   True\n",
              "channel_used                      True\n",
              "deceased                          True\n",
              "address_type                      True\n",
              "province_code                     True\n",
              "province_name                     True\n",
              "active_customer                   True\n",
              "household_gross                   True\n",
              "segmentation                      True\n",
              "saving_account                   False\n",
              "guarantees                       False\n",
              "current_accounts                 False\n",
              "derivada_account                 False\n",
              "payroll_account                  False\n",
              "junior_account                   False\n",
              "mas_particular_account           False\n",
              "particular_account               False\n",
              "particular_plus_account          False\n",
              "short_term_deposits              False\n",
              "medium_term_deposits             False\n",
              "long_term_deposits               False\n",
              "e_account                        False\n",
              "funds                            False\n",
              "mortgage                         False\n",
              "pensions_1                       False\n",
              "loans                            False\n",
              "taxes                            False\n",
              "credit_card                      False\n",
              "securities                       False\n",
              "home_account                     False\n",
              "payroll                           True\n",
              "pensions_2                        True\n",
              "direct_debit                     False\n",
              "dtype: bool"
            ]
          },
          "metadata": {
            "tags": []
          },
          "execution_count": 25
        }
      ]
    },
    {
      "cell_type": "code",
      "metadata": {
        "id": "6dmlA3aN3of3",
        "colab_type": "code",
        "outputId": "627a6103-361e-40c8-b3d8-64c152b6ce80",
        "colab": {
          "base_uri": "https://localhost:8080/",
          "height": 850
        }
      },
      "source": [
        "spr_train_processed_df.isnull().sum()"
      ],
      "execution_count": 26,
      "outputs": [
        {
          "output_type": "execute_result",
          "data": {
            "text/plain": [
              "date                                    0\n",
              "customer_code                           0\n",
              "employee_index                      27734\n",
              "country_residence                   27734\n",
              "sex                                 27804\n",
              "age                                     0\n",
              "date_first_joined                   27734\n",
              "new_customer_index                  27734\n",
              "customer_seniority_in_months            0\n",
              "index_first_end_of_month            27734\n",
              "last_date_as_primary_customer    13622516\n",
              "customer_type_month_begin          149781\n",
              "customer_relation_month_begin      149781\n",
              "resident                            27734\n",
              "foreigner                           27734\n",
              "employee_spouse                  13645501\n",
              "channel_used                       186126\n",
              "deceased                            27734\n",
              "address_type                        27735\n",
              "province_code                       93591\n",
              "province_name                       93591\n",
              "active_customer                     27734\n",
              "household_gross                   2794375\n",
              "segmentation                       189368\n",
              "saving_account                          0\n",
              "guarantees                              0\n",
              "current_accounts                        0\n",
              "derivada_account                        0\n",
              "payroll_account                         0\n",
              "junior_account                          0\n",
              "mas_particular_account                  0\n",
              "particular_account                      0\n",
              "particular_plus_account                 0\n",
              "short_term_deposits                     0\n",
              "medium_term_deposits                    0\n",
              "long_term_deposits                      0\n",
              "e_account                               0\n",
              "funds                                   0\n",
              "mortgage                                0\n",
              "pensions_1                              0\n",
              "loans                                   0\n",
              "taxes                                   0\n",
              "credit_card                             0\n",
              "securities                              0\n",
              "home_account                            0\n",
              "payroll                             16063\n",
              "pensions_2                          16063\n",
              "direct_debit                            0\n",
              "dtype: int64"
            ]
          },
          "metadata": {
            "tags": []
          },
          "execution_count": 26
        }
      ]
    },
    {
      "cell_type": "markdown",
      "metadata": {
        "id": "toxpTE-vsmZy",
        "colab_type": "text"
      },
      "source": [
        "## Column by column cleaning up the data"
      ]
    },
    {
      "cell_type": "markdown",
      "metadata": {
        "id": "xbVZGwOkj6eb",
        "colab_type": "text"
      },
      "source": [
        "### customer_code"
      ]
    },
    {
      "cell_type": "code",
      "metadata": {
        "id": "cFM_tmksj4gW",
        "colab_type": "code",
        "outputId": "152d6196-9739-42e1-a3db-7a3741d133a6",
        "colab": {
          "base_uri": "https://localhost:8080/",
          "height": 221
        }
      },
      "source": [
        "spr_train_processed_df.customer_code.value_counts()"
      ],
      "execution_count": 27,
      "outputs": [
        {
          "output_type": "execute_result",
          "data": {
            "text/plain": [
              "32752      17\n",
              "1273696    17\n",
              "1224536    17\n",
              "1199940    17\n",
              "1208128    17\n",
              "           ..\n",
              "1549150     1\n",
              "1543059     1\n",
              "1535935     1\n",
              "1551255     1\n",
              "1489485     1\n",
              "Name: customer_code, Length: 956645, dtype: int64"
            ]
          },
          "metadata": {
            "tags": []
          },
          "execution_count": 27
        }
      ]
    },
    {
      "cell_type": "markdown",
      "metadata": {
        "id": "aVUy2gf7sy85",
        "colab_type": "text"
      },
      "source": [
        "### [\"employee_index\", \"index_first_end_of_month\",\"address_type\"]\n",
        "Replacing null values to max value in each column type"
      ]
    },
    {
      "cell_type": "code",
      "metadata": {
        "id": "zZ3CqbLFA5Fm",
        "colab_type": "code",
        "colab": {}
      },
      "source": [
        "max_columns = [\"employee_index\", \"index_first_end_of_month\", \"address_type\"]"
      ],
      "execution_count": 0,
      "outputs": []
    },
    {
      "cell_type": "code",
      "metadata": {
        "id": "E282rc_tBRj_",
        "colab_type": "code",
        "colab": {}
      },
      "source": [
        "for column_name in max_columns:\n",
        "  # Finding the value with maximum occurance in the column\n",
        "  value = spr_train_processed_df[column_name].value_counts().idxmax()\n",
        "  spr_train_processed_df.loc[spr_train_processed_df[column_name].isnull(),column_name] = value"
      ],
      "execution_count": 0,
      "outputs": []
    },
    {
      "cell_type": "markdown",
      "metadata": {
        "id": "584f5KMXu7IF",
        "colab_type": "text"
      },
      "source": [
        "### 4. country_residence column - Assigning missing to UK = unknown"
      ]
    },
    {
      "cell_type": "code",
      "metadata": {
        "id": "8XQQELA_vHOf",
        "colab_type": "code",
        "outputId": "e79fa595-df38-49c9-91c3-4e2fc4ff989e",
        "colab": {
          "base_uri": "https://localhost:8080/",
          "height": 204
        }
      },
      "source": [
        "spr_train_processed_df[\"country_residence\"].unique()"
      ],
      "execution_count": 30,
      "outputs": [
        {
          "output_type": "execute_result",
          "data": {
            "text/plain": [
              "array(['ES', nan, 'CA', 'CH', 'CL', 'IE', 'AT', 'NL', 'FR', 'GB', 'DE',\n",
              "       'DO', 'BE', 'AR', 'VE', 'US', 'MX', 'BR', 'IT', 'EC', 'PE', 'CO',\n",
              "       'HN', 'FI', 'SE', 'AL', 'PT', 'MZ', 'CN', 'TW', 'PL', 'IN', 'CR',\n",
              "       'NI', 'HK', 'AD', 'CZ', 'AE', 'MA', 'GR', 'PR', 'RO', 'IL', 'RU',\n",
              "       'GT', 'GA', 'NO', 'SN', 'MR', 'UA', 'BG', 'PY', 'EE', 'SV', 'ET',\n",
              "       'CM', 'SA', 'CI', 'QA', 'LU', 'PA', 'BA', 'BO', 'AU', 'BY', 'KE',\n",
              "       'SG', 'HR', 'MD', 'SK', 'TR', 'AO', 'CU', 'GQ', 'EG', 'ZA', 'DK',\n",
              "       'UY', 'GE', 'TH', 'DZ', 'LB', 'JP', 'NG', 'PK', 'TN', 'TG', 'KR',\n",
              "       'GH', 'RS', 'VN', 'PH', 'KW', 'NZ', 'MM', 'KH', 'GI', 'SL', 'GN',\n",
              "       'GW', 'OM', 'CG', 'LV', 'LT', 'ML', 'MK', 'HU', 'IS', 'LY', 'CF',\n",
              "       'GM', 'KZ', 'CD', 'BZ', 'ZW', 'DJ', 'JM', 'BM', 'MT'], dtype=object)"
            ]
          },
          "metadata": {
            "tags": []
          },
          "execution_count": 30
        }
      ]
    },
    {
      "cell_type": "code",
      "metadata": {
        "id": "mMzy-MIpvkWF",
        "colab_type": "code",
        "outputId": "38d35d58-756a-4f5c-fccd-568f0eea06f4",
        "colab": {
          "base_uri": "https://localhost:8080/",
          "height": 34
        }
      },
      "source": [
        "spr_train_processed_df.loc[spr_train_processed_df[\"country_residence\"]=='UK',\"country_residence\"]"
      ],
      "execution_count": 31,
      "outputs": [
        {
          "output_type": "execute_result",
          "data": {
            "text/plain": [
              "Series([], Name: country_residence, dtype: object)"
            ]
          },
          "metadata": {
            "tags": []
          },
          "execution_count": 31
        }
      ]
    },
    {
      "cell_type": "code",
      "metadata": {
        "id": "8wiB6W-2wKy7",
        "colab_type": "code",
        "colab": {}
      },
      "source": [
        "spr_train_processed_df.loc[spr_train_processed_df[\"country_residence\"].isnull(),\"country_residence\"] = 'UK'"
      ],
      "execution_count": 0,
      "outputs": []
    },
    {
      "cell_type": "markdown",
      "metadata": {
        "id": "1UxOfXGas-T5",
        "colab_type": "text"
      },
      "source": [
        "### [\"sex\",\"customer_relation_month_begin\",\"resident\",\"foreigner\",\"deceased\"] columns\n",
        "Assinging missing values to \"U\" = unknown"
      ]
    },
    {
      "cell_type": "code",
      "metadata": {
        "id": "I57FHYof_DJI",
        "colab_type": "code",
        "colab": {}
      },
      "source": [
        "u_columns = [\"sex\",\"customer_relation_month_begin\",\"resident\",\"foreigner\",\"deceased\"]"
      ],
      "execution_count": 0,
      "outputs": []
    },
    {
      "cell_type": "code",
      "metadata": {
        "id": "7QqZ4IHe_qQ_",
        "colab_type": "code",
        "colab": {}
      },
      "source": [
        "for column_name in u_columns:\n",
        "  spr_train_processed_df.loc[spr_train_processed_df[column_name].isnull(),column_name] = \"U\""
      ],
      "execution_count": 0,
      "outputs": []
    },
    {
      "cell_type": "markdown",
      "metadata": {
        "id": "y33JqE2azlOw",
        "colab_type": "text"
      },
      "source": [
        "### 6. Age column, replacing missing values with average age in the dataset"
      ]
    },
    {
      "cell_type": "code",
      "metadata": {
        "id": "1hqqkSDU8gjw",
        "colab_type": "code",
        "outputId": "7d52c351-2100-4ffc-f0a5-b962d37ff45c",
        "colab": {
          "base_uri": "https://localhost:8080/",
          "height": 374
        }
      },
      "source": [
        "spr_train_processed_df.age.unique()"
      ],
      "execution_count": 35,
      "outputs": [
        {
          "output_type": "execute_result",
          "data": {
            "text/plain": [
              "array([' 35', ' 23', ' 22', ' 24', ' 65', ' 28', ' 25', ' 26', ' 53',\n",
              "       ' 27', ' 32', ' 37', ' 31', ' 39', ' 63', ' 33', ' 55', ' 42',\n",
              "       ' 58', ' 38', ' 50', ' 30', ' 45', ' 44', ' 36', ' 29', ' 60',\n",
              "       ' 57', ' 67', ' 47', ' NA', ' 34', ' 48', ' 46', ' 54', ' 84',\n",
              "       ' 15', ' 12', '  8', '  6', ' 83', ' 40', ' 77', ' 69', ' 52',\n",
              "       ' 59', ' 43', ' 10', '  9', ' 49', ' 41', ' 51', ' 78', ' 16',\n",
              "       ' 11', ' 73', ' 62', ' 66', ' 17', ' 68', ' 82', ' 95', ' 96',\n",
              "       ' 56', ' 61', ' 79', ' 72', ' 14', ' 19', ' 13', ' 86', ' 64',\n",
              "       ' 20', ' 89', ' 71', '  7', ' 70', ' 74', ' 21', ' 18', ' 75',\n",
              "       '  4', ' 80', ' 81', '  5', ' 76', ' 92', ' 93', ' 85', ' 91',\n",
              "       ' 87', ' 90', ' 94', ' 99', ' 98', ' 88', ' 97', '100', '101',\n",
              "       '106', '103', '  3', '  2', '102', '104', '111', '107', '109',\n",
              "       '105', '112', '115', '110', '116', '108', '113', 37, 81, 43, 30,\n",
              "       45, 41, 67, 59, 46, 36, 47, 69, 39, 44, 40, 38, 34, 42, 31, 35, 48,\n",
              "       60, 54, 51, 33, 62, 50, 11, 57, 55, 85, 80, 70, 32, 52, 94, 61, 13,\n",
              "       29, 49, 76, 28, 63, 10, 88, 68, 64, 58, 56, 79, 53, 77, 74, 82, 89,\n",
              "       86, 72, 95, 66, 71, 78, 75, 27, 22, 23, 65, 21, 26, 98, 19, 84, 83,\n",
              "       90, 12, 14, 87, 93, 18, 92, 99, 17, 97, 102, 16, 73, 91, 15, 25,\n",
              "       24, 20, 96, 104, 110, 103, 106, 105, 111, 109, 101, 100, 108, 107,\n",
              "       9, 113, 2, 112, 3, 8, 7, 6, 126, 115, 117, 163, 116, 5, 4, 127,\n",
              "       114, 164], dtype=object)"
            ]
          },
          "metadata": {
            "tags": []
          },
          "execution_count": 35
        }
      ]
    },
    {
      "cell_type": "code",
      "metadata": {
        "id": "yueNMBPszsZu",
        "colab_type": "code",
        "colab": {}
      },
      "source": [
        "spr_train_processed_df.loc[spr_train_processed_df.age==' NA','age'] = 0"
      ],
      "execution_count": 0,
      "outputs": []
    },
    {
      "cell_type": "code",
      "metadata": {
        "id": "imvs0Ic0-suV",
        "colab_type": "code",
        "outputId": "1d1cdd9e-7fc9-4534-ac63-cb8c3e22f145",
        "colab": {
          "base_uri": "https://localhost:8080/",
          "height": 374
        }
      },
      "source": [
        "spr_train_processed_df.age.unique()"
      ],
      "execution_count": 37,
      "outputs": [
        {
          "output_type": "execute_result",
          "data": {
            "text/plain": [
              "array([' 35', ' 23', ' 22', ' 24', ' 65', ' 28', ' 25', ' 26', ' 53',\n",
              "       ' 27', ' 32', ' 37', ' 31', ' 39', ' 63', ' 33', ' 55', ' 42',\n",
              "       ' 58', ' 38', ' 50', ' 30', ' 45', ' 44', ' 36', ' 29', ' 60',\n",
              "       ' 57', ' 67', ' 47', 0, ' 34', ' 48', ' 46', ' 54', ' 84', ' 15',\n",
              "       ' 12', '  8', '  6', ' 83', ' 40', ' 77', ' 69', ' 52', ' 59',\n",
              "       ' 43', ' 10', '  9', ' 49', ' 41', ' 51', ' 78', ' 16', ' 11',\n",
              "       ' 73', ' 62', ' 66', ' 17', ' 68', ' 82', ' 95', ' 96', ' 56',\n",
              "       ' 61', ' 79', ' 72', ' 14', ' 19', ' 13', ' 86', ' 64', ' 20',\n",
              "       ' 89', ' 71', '  7', ' 70', ' 74', ' 21', ' 18', ' 75', '  4',\n",
              "       ' 80', ' 81', '  5', ' 76', ' 92', ' 93', ' 85', ' 91', ' 87',\n",
              "       ' 90', ' 94', ' 99', ' 98', ' 88', ' 97', '100', '101', '106',\n",
              "       '103', '  3', '  2', '102', '104', '111', '107', '109', '105',\n",
              "       '112', '115', '110', '116', '108', '113', 37, 81, 43, 30, 45, 41,\n",
              "       67, 59, 46, 36, 47, 69, 39, 44, 40, 38, 34, 42, 31, 35, 48, 60, 54,\n",
              "       51, 33, 62, 50, 11, 57, 55, 85, 80, 70, 32, 52, 94, 61, 13, 29, 49,\n",
              "       76, 28, 63, 10, 88, 68, 64, 58, 56, 79, 53, 77, 74, 82, 89, 86, 72,\n",
              "       95, 66, 71, 78, 75, 27, 22, 23, 65, 21, 26, 98, 19, 84, 83, 90, 12,\n",
              "       14, 87, 93, 18, 92, 99, 17, 97, 102, 16, 73, 91, 15, 25, 24, 20,\n",
              "       96, 104, 110, 103, 106, 105, 111, 109, 101, 100, 108, 107, 9, 113,\n",
              "       2, 112, 3, 8, 7, 6, 126, 115, 117, 163, 116, 5, 4, 127, 114, 164],\n",
              "      dtype=object)"
            ]
          },
          "metadata": {
            "tags": []
          },
          "execution_count": 37
        }
      ]
    },
    {
      "cell_type": "code",
      "metadata": {
        "id": "pRWqQhNz-Qfo",
        "colab_type": "code",
        "colab": {}
      },
      "source": [
        "spr_train_processed_df = spr_train_processed_df.astype({'age': 'int64'})"
      ],
      "execution_count": 0,
      "outputs": []
    },
    {
      "cell_type": "code",
      "metadata": {
        "id": "fyvpecwYDvo8",
        "colab_type": "code",
        "outputId": "e70c319e-b0bb-4dc3-cc9a-8c20071f5d9c",
        "colab": {
          "base_uri": "https://localhost:8080/",
          "height": 187
        }
      },
      "source": [
        "spr_train_processed_df.age.unique()"
      ],
      "execution_count": 39,
      "outputs": [
        {
          "output_type": "execute_result",
          "data": {
            "text/plain": [
              "array([ 35,  23,  22,  24,  65,  28,  25,  26,  53,  27,  32,  37,  31,\n",
              "        39,  63,  33,  55,  42,  58,  38,  50,  30,  45,  44,  36,  29,\n",
              "        60,  57,  67,  47,   0,  34,  48,  46,  54,  84,  15,  12,   8,\n",
              "         6,  83,  40,  77,  69,  52,  59,  43,  10,   9,  49,  41,  51,\n",
              "        78,  16,  11,  73,  62,  66,  17,  68,  82,  95,  96,  56,  61,\n",
              "        79,  72,  14,  19,  13,  86,  64,  20,  89,  71,   7,  70,  74,\n",
              "        21,  18,  75,   4,  80,  81,   5,  76,  92,  93,  85,  91,  87,\n",
              "        90,  94,  99,  98,  88,  97, 100, 101, 106, 103,   3,   2, 102,\n",
              "       104, 111, 107, 109, 105, 112, 115, 110, 116, 108, 113, 126, 117,\n",
              "       163, 127, 114, 164])"
            ]
          },
          "metadata": {
            "tags": []
          },
          "execution_count": 39
        }
      ]
    },
    {
      "cell_type": "code",
      "metadata": {
        "id": "xRIvAKlt1VLt",
        "colab_type": "code",
        "colab": {}
      },
      "source": [
        "spr_train_processed_df.loc[spr_train_processed_df.age==0,'age'] = int(spr_train_processed_df.age.mean())"
      ],
      "execution_count": 0,
      "outputs": []
    },
    {
      "cell_type": "markdown",
      "metadata": {
        "id": "pv3RNdHVQxi6",
        "colab_type": "text"
      },
      "source": [
        "### 7. date_first_joined column - Replacing all missing values with the min() of 'date' column"
      ]
    },
    {
      "cell_type": "code",
      "metadata": {
        "id": "QvPP7CclTN0R",
        "colab_type": "code",
        "colab": {}
      },
      "source": [
        "spr_train_processed_df.loc[spr_train_processed_df['date_first_joined'].isnull(), 'date_first_joined'] = spr_train_processed_df.date.min()"
      ],
      "execution_count": 0,
      "outputs": []
    },
    {
      "cell_type": "markdown",
      "metadata": {
        "id": "hiRuoxE4d8Bs",
        "colab_type": "text"
      },
      "source": [
        "### 9. customer_seniority_in_months - Replacing NA=0, converting to int type"
      ]
    },
    {
      "cell_type": "code",
      "metadata": {
        "id": "HjzkBlTyd7Q5",
        "colab_type": "code",
        "outputId": "64f4d09a-f39c-4fc0-b3ee-fed7073e2494",
        "colab": {
          "base_uri": "https://localhost:8080/",
          "height": 1000
        }
      },
      "source": [
        "spr_train_processed_df.customer_seniority_in_months.unique()"
      ],
      "execution_count": 42,
      "outputs": [
        {
          "output_type": "execute_result",
          "data": {
            "text/plain": [
              "array(['      6', '     35', '     34', '     NA', '     33', '     31',\n",
              "       '     21', '     16', '     27', '      9', '     22', '     13',\n",
              "       '     29', '      8', '     11', '     10', '     28', '     24',\n",
              "       '      7', '     25', '     14', '     26', '     12', '     23',\n",
              "       '      1', '     18', '      4', '      3', '     17', '     32',\n",
              "       '     30', '     20', '     15', '     19', '    157', '     36',\n",
              "       '      5', '     40', '     38', '     37', '     39', '      0',\n",
              "       '      2', '     47', '     44', '     42', '     46', '     45',\n",
              "       '     43', '     41', '     57', '     48', '     52', '     49',\n",
              "       '     50', '     56', '     58', '     51', '     55', '     54',\n",
              "       '     53', '     59', '     62', '     61', '     60', '     63',\n",
              "       '    139', '    165', '    118', '    164', '    142', '     94',\n",
              "       '    159', '    143', '    105', '    151', '    162', '    137',\n",
              "       '    150', '    128', '    122', '    156', '    119', '    160',\n",
              "       '     79', '     95', '    132', '    161', '     98', '    127',\n",
              "       '     72', '    155', '    108', '    163', '    102', '    148',\n",
              "       '    115', '    146', '    107', '     81', '    216', '    135',\n",
              "       '     92', '    121', '    198', '    134', '     93', '    140',\n",
              "       '    110', '    120', '    147', '    116', '     64', '     77',\n",
              "       '     85', '     99', '     78', '    100', '    113', '    154',\n",
              "       '    166', '    133', '    124', '    141', '     66', '    117',\n",
              "       '     86', '    193', '     80', '    144', '     87', '    126',\n",
              "       '    158', '    101', '    235', '     88', '    145', '    103',\n",
              "       '    149', '    109', '    131', '     97', '     68', '     84',\n",
              "       '    232', '    125', '    177', '    112', '     96', '     69',\n",
              "       '    171', '    167', '    104', '     76', '     82', '    152',\n",
              "       '     70', '    138', '    169', '     65', '    129', '    190',\n",
              "       '    114', '    111', '    176', '    153', '     89', '    136',\n",
              "       '     83', '    123', '    187', '    106', '    231', '    189',\n",
              "       '    217', '    172', '    199', '    173', '    174', '    209',\n",
              "       '    180', '    178', '     91', '    168', '    130', '    225',\n",
              "       '     67', '     73', '    183', '     74', '    206', '     71',\n",
              "       '    179', '    184', '    192', '     90', '    194', '    182',\n",
              "       '    188', '    213', '    185', '    195', '    186', '    207',\n",
              "       '    208', '     75', '    175', '    201', '    203', '    212',\n",
              "       '    215', '    170', '    228', '    214', '    202', '    196',\n",
              "       '    181', '    211', '    191', '    205', '    200', '    227',\n",
              "       '    218', '    219', '    226', '    224', '    210', '    242',\n",
              "       '    223', '    237', '    204', '    233', '    220', '    222',\n",
              "       '    241', '    197', '    221', '    229', '    234', '    240',\n",
              "       '    243', '    230', '    238', '    246', '    236', '    244',\n",
              "       '    239', '    245', '-999999', 105, 81, 93, 30, 79, 69, 104, 18,\n",
              "       35, 7, 103, 34, 87, 95, 100, 102, 8, 36, 14, 94, 86, 26, 32, 42,\n",
              "       96, 22, 10, 72, 83, 54, 20, 62, 59, 9, 61, 12, 80, 98, 92, 33, 63,\n",
              "       78, 88, 77, 57, 11, 84, 101, 68, 40, 99, 55, 82, 19, 97, 15, 76,\n",
              "       43, 5, 56, 89, 38, 37, 53, 58, 60, 146, 3, 31, 29, 6, 70, 45, 51,\n",
              "       64, 52, 41, 67, 23, 17, 48, 47, 66, 49, 108, 25, 16, 21, 74, 0, 39,\n",
              "       13, 1, 50, 65, 91, 71, 75, 44, 2, 144, 4, 46, 85, 27, 24, 111, 110,\n",
              "       107, 109, 73, 106, 90, 112, 129, 113, 28, 134, 195, 127, 126, 122,\n",
              "       120, 125, 121, 136, 117, 123, 118, 160, 124, 145, 116, 115, 204,\n",
              "       163, 128, 141, 119, 135, 188, 114, 165, 173, 172, 131, 202, 151,\n",
              "       130, 175, 147, 199, 179, 162, 148, 156, 174, 152, 150, 196, 168,\n",
              "       161, 157, 177, 180, 184, 164, 225, 140, 133, 132, 149, 227, 138,\n",
              "       171, 190, 143, 189, 176, 169, 237, 232, 210, 200, 154, 181, 155,\n",
              "       207, 193, 201, 208, 142, 185, 182, 153, 198, 178, 186, 166, 238,\n",
              "       159, 170, 183, 241, 137, 214, 139, 221, 187, 191, 167, 206, 205,\n",
              "       234, 158, 197, 211, 212, 194, 229, 216, 235, -999999, 220, 236,\n",
              "       215, 228, 218, 192, 231, 209, 217, 223, 222, 230, 203, 226, 233,\n",
              "       219, 224, 240, 213, 239, 242, 243, 244, 246, 245, 247, 248, 249,\n",
              "       250, 251, 252, 253, 254, 255, 256], dtype=object)"
            ]
          },
          "metadata": {
            "tags": []
          },
          "execution_count": 42
        }
      ]
    },
    {
      "cell_type": "code",
      "metadata": {
        "id": "23rn74Fne1vf",
        "colab_type": "code",
        "outputId": "8b71ec34-7b67-40f1-8833-1aec1c3b73be",
        "colab": {
          "base_uri": "https://localhost:8080/",
          "height": 34
        }
      },
      "source": [
        "spr_train_processed_df.loc[spr_train_processed_df.customer_seniority_in_months.isin(['     NA',-999999, '-999999']), 'customer_seniority_in_months'].count()"
      ],
      "execution_count": 43,
      "outputs": [
        {
          "output_type": "execute_result",
          "data": {
            "text/plain": [
              "27772"
            ]
          },
          "metadata": {
            "tags": []
          },
          "execution_count": 43
        }
      ]
    },
    {
      "cell_type": "code",
      "metadata": {
        "id": "XbwF6pJ4fg3H",
        "colab_type": "code",
        "colab": {}
      },
      "source": [
        "spr_train_processed_df.loc[spr_train_processed_df.customer_seniority_in_months.isin(['     NA',-999999, '-999999']), 'customer_seniority_in_months'] = 0"
      ],
      "execution_count": 0,
      "outputs": []
    },
    {
      "cell_type": "code",
      "metadata": {
        "id": "dotT6PT3eYSG",
        "colab_type": "code",
        "colab": {}
      },
      "source": [
        "spr_train_processed_df = spr_train_processed_df.astype({'customer_seniority_in_months': 'int64'})"
      ],
      "execution_count": 0,
      "outputs": []
    },
    {
      "cell_type": "code",
      "metadata": {
        "id": "-vFCHg12egxS",
        "colab_type": "code",
        "outputId": "125a55ed-8174-4359-84e5-ba01589c68dc",
        "colab": {
          "base_uri": "https://localhost:8080/",
          "height": 357
        }
      },
      "source": [
        "spr_train_processed_df.customer_seniority_in_months.unique()"
      ],
      "execution_count": 46,
      "outputs": [
        {
          "output_type": "execute_result",
          "data": {
            "text/plain": [
              "array([  6,  35,  34,   0,  33,  31,  21,  16,  27,   9,  22,  13,  29,\n",
              "         8,  11,  10,  28,  24,   7,  25,  14,  26,  12,  23,   1,  18,\n",
              "         4,   3,  17,  32,  30,  20,  15,  19, 157,  36,   5,  40,  38,\n",
              "        37,  39,   2,  47,  44,  42,  46,  45,  43,  41,  57,  48,  52,\n",
              "        49,  50,  56,  58,  51,  55,  54,  53,  59,  62,  61,  60,  63,\n",
              "       139, 165, 118, 164, 142,  94, 159, 143, 105, 151, 162, 137, 150,\n",
              "       128, 122, 156, 119, 160,  79,  95, 132, 161,  98, 127,  72, 155,\n",
              "       108, 163, 102, 148, 115, 146, 107,  81, 216, 135,  92, 121, 198,\n",
              "       134,  93, 140, 110, 120, 147, 116,  64,  77,  85,  99,  78, 100,\n",
              "       113, 154, 166, 133, 124, 141,  66, 117,  86, 193,  80, 144,  87,\n",
              "       126, 158, 101, 235,  88, 145, 103, 149, 109, 131,  97,  68,  84,\n",
              "       232, 125, 177, 112,  96,  69, 171, 167, 104,  76,  82, 152,  70,\n",
              "       138, 169,  65, 129, 190, 114, 111, 176, 153,  89, 136,  83, 123,\n",
              "       187, 106, 231, 189, 217, 172, 199, 173, 174, 209, 180, 178,  91,\n",
              "       168, 130, 225,  67,  73, 183,  74, 206,  71, 179, 184, 192,  90,\n",
              "       194, 182, 188, 213, 185, 195, 186, 207, 208,  75, 175, 201, 203,\n",
              "       212, 215, 170, 228, 214, 202, 196, 181, 211, 191, 205, 200, 227,\n",
              "       218, 219, 226, 224, 210, 242, 223, 237, 204, 233, 220, 222, 241,\n",
              "       197, 221, 229, 234, 240, 243, 230, 238, 246, 236, 244, 239, 245,\n",
              "       247, 248, 249, 250, 251, 252, 253, 254, 255, 256])"
            ]
          },
          "metadata": {
            "tags": []
          },
          "execution_count": 46
        }
      ]
    },
    {
      "cell_type": "markdown",
      "metadata": {
        "id": "gVh4brfguoup",
        "colab_type": "text"
      },
      "source": [
        "### 8. new_customer_index column - Calculating missing values based on the customer_seniority_in_months column"
      ]
    },
    {
      "cell_type": "code",
      "metadata": {
        "id": "b9XTIgmBdVvf",
        "colab_type": "code",
        "colab": {}
      },
      "source": [
        "spr_train_processed_df.loc[spr_train_processed_df.new_customer_index.isnull() & spr_train_processed_df.customer_seniority_in_months<6,\"new_customer_index\"]=1"
      ],
      "execution_count": 0,
      "outputs": []
    },
    {
      "cell_type": "markdown",
      "metadata": {
        "id": "Z6XZLuYCvSD9",
        "colab_type": "text"
      },
      "source": [
        "### 12. customer_type_month_begin column - Assigning missing values to unknown=6, potential(p)=5"
      ]
    },
    {
      "cell_type": "code",
      "metadata": {
        "id": "udSFQE_mjBwA",
        "colab_type": "code",
        "outputId": "34686bba-3f47-4f28-b457-bf2be3b304fa",
        "colab": {
          "base_uri": "https://localhost:8080/",
          "height": 51
        }
      },
      "source": [
        "spr_train_processed_df.customer_type_month_begin.unique()"
      ],
      "execution_count": 48,
      "outputs": [
        {
          "output_type": "execute_result",
          "data": {
            "text/plain": [
              "array([1.0, nan, 3.0, 2.0, '1.0', '1', '3', '3.0', '2.0', '4.0', 'P', '4',\n",
              "       4.0, '2'], dtype=object)"
            ]
          },
          "metadata": {
            "tags": []
          },
          "execution_count": 48
        }
      ]
    },
    {
      "cell_type": "code",
      "metadata": {
        "id": "Tnze2e11bDy2",
        "colab_type": "code",
        "colab": {}
      },
      "source": [
        "spr_train_processed_df.loc[spr_train_processed_df.customer_type_month_begin == 'P', 'customer_type_month_begin'] = 5"
      ],
      "execution_count": 0,
      "outputs": []
    },
    {
      "cell_type": "code",
      "metadata": {
        "id": "acm4cZlI1cMC",
        "colab_type": "code",
        "colab": {}
      },
      "source": [
        "spr_train_processed_df.loc[spr_train_processed_df['customer_type_month_begin'].isnull(), \"customer_type_month_begin\"] = 6"
      ],
      "execution_count": 0,
      "outputs": []
    },
    {
      "cell_type": "code",
      "metadata": {
        "id": "I5ANe4otdR0m",
        "colab_type": "code",
        "colab": {}
      },
      "source": [
        "spr_train_processed_df = spr_train_processed_df.astype({'customer_type_month_begin': 'float64'})"
      ],
      "execution_count": 0,
      "outputs": []
    },
    {
      "cell_type": "markdown",
      "metadata": {
        "id": "LWWAYcBIFkW6",
        "colab_type": "text"
      },
      "source": [
        "###  channel_used, province_name columns - Replaced null values with \"UNK\""
      ]
    },
    {
      "cell_type": "code",
      "metadata": {
        "id": "vvyze0_bJpLO",
        "colab_type": "code",
        "colab": {}
      },
      "source": [
        "unk_columns = [\"channel_used\",\"province_name\"]"
      ],
      "execution_count": 0,
      "outputs": []
    },
    {
      "cell_type": "code",
      "metadata": {
        "id": "Y4suD3I_JwOb",
        "colab_type": "code",
        "colab": {}
      },
      "source": [
        "for column_name in unk_columns:\n",
        "  spr_train_processed_df.loc[spr_train_processed_df[column_name].isnull(), column_name] = \"UNK\""
      ],
      "execution_count": 0,
      "outputs": []
    },
    {
      "cell_type": "markdown",
      "metadata": {
        "id": "Ic9adq05x48d",
        "colab_type": "text"
      },
      "source": [
        "### 20. province_code column - Replace null with zeros"
      ]
    },
    {
      "cell_type": "code",
      "metadata": {
        "id": "Pk08Uf7oIZbp",
        "colab_type": "code",
        "colab": {}
      },
      "source": [
        "spr_train_processed_df.fillna({'province_code':0}, inplace=True)"
      ],
      "execution_count": 0,
      "outputs": []
    },
    {
      "cell_type": "markdown",
      "metadata": {
        "id": "DESWx_BQM2Ef",
        "colab_type": "text"
      },
      "source": [
        "### 22. active_customer column - Missing values give indication of inactive customers, so assinging them to 0-inactive"
      ]
    },
    {
      "cell_type": "code",
      "metadata": {
        "id": "TUh_xzjdNBwC",
        "colab_type": "code",
        "colab": {}
      },
      "source": [
        "spr_train_processed_df.loc[spr_train_processed_df['active_customer'].isnull(),'active_customer'] = 0"
      ],
      "execution_count": 0,
      "outputs": []
    },
    {
      "cell_type": "markdown",
      "metadata": {
        "id": "YXsILr5LzMn9",
        "colab_type": "text"
      },
      "source": [
        "### 23. household_gross column - Replacing with median income"
      ]
    },
    {
      "cell_type": "code",
      "metadata": {
        "id": "SmPpEgCUKfMl",
        "colab_type": "code",
        "colab": {}
      },
      "source": [
        "median_income = spr_train_processed_df['household_gross'].median()\n",
        "spr_train_processed_df.loc[spr_train_processed_df['household_gross'].isnull(), 'household_gross'] = median_income"
      ],
      "execution_count": 0,
      "outputs": []
    },
    {
      "cell_type": "markdown",
      "metadata": {
        "id": "msA1QI-zzR7j",
        "colab_type": "text"
      },
      "source": [
        "### 24. segmentation column"
      ]
    },
    {
      "cell_type": "code",
      "metadata": {
        "id": "VcaORUTfLPV7",
        "colab_type": "code",
        "colab": {}
      },
      "source": [
        "spr_train_processed_df.loc[spr_train_processed_df[\"segmentation\"].isnull(),\"segmentation\"] = \"00 - UNKNOWN\""
      ],
      "execution_count": 0,
      "outputs": []
    },
    {
      "cell_type": "markdown",
      "metadata": {
        "id": "2f4DXVa2N3U0",
        "colab_type": "text"
      },
      "source": [
        "### 46. payroll, and 47. pensions_2 columns - Replacing missing values with values from payroll_account column since there is a very high correlation"
      ]
    },
    {
      "cell_type": "code",
      "metadata": {
        "id": "ektKhjK3N16g",
        "colab_type": "code",
        "colab": {}
      },
      "source": [
        "replace_columns = [\"payroll\", \"pensions_2\"]"
      ],
      "execution_count": 0,
      "outputs": []
    },
    {
      "cell_type": "code",
      "metadata": {
        "id": "pje46XnOPG9S",
        "colab_type": "code",
        "outputId": "3ff1be8d-82d7-49ad-a0c8-c2bb1f279856",
        "colab": {
          "base_uri": "https://localhost:8080/",
          "height": 221
        }
      },
      "source": [
        "spr_train_processed_df.loc[spr_train_processed_df['payroll'].isnull(), 'payroll_account']"
      ],
      "execution_count": 59,
      "outputs": [
        {
          "output_type": "execute_result",
          "data": {
            "text/plain": [
              "1922       0\n",
              "2989       0\n",
              "4646       0\n",
              "5666       0\n",
              "6196       0\n",
              "          ..\n",
              "3775976    0\n",
              "3776175    0\n",
              "3776230    0\n",
              "3776279    0\n",
              "3776332    0\n",
              "Name: payroll_account, Length: 16063, dtype: int64"
            ]
          },
          "metadata": {
            "tags": []
          },
          "execution_count": 59
        }
      ]
    },
    {
      "cell_type": "code",
      "metadata": {
        "id": "TTidPOhTOcFo",
        "colab_type": "code",
        "colab": {}
      },
      "source": [
        "for column_name in replace_columns:\n",
        "  spr_train_processed_df.loc[spr_train_processed_df[column_name].isnull(),column_name] = spr_train_processed_df.loc[spr_train_processed_df[column_name].isnull(), 'payroll_account']"
      ],
      "execution_count": 0,
      "outputs": []
    },
    {
      "cell_type": "markdown",
      "metadata": {
        "id": "qQ0zP72GXZbP",
        "colab_type": "text"
      },
      "source": [
        "### Dropping Columns last_date_as_primary_customer and employee_spouse since there are too many missing values"
      ]
    },
    {
      "cell_type": "code",
      "metadata": {
        "id": "C-lSCp1eXYt-",
        "colab_type": "code",
        "colab": {}
      },
      "source": [
        "spr_train_processed_df.drop(columns = ['last_date_as_primary_customer','employee_spouse'], inplace=True)"
      ],
      "execution_count": 0,
      "outputs": []
    },
    {
      "cell_type": "markdown",
      "metadata": {
        "id": "fYB46bIILo34",
        "colab_type": "text"
      },
      "source": [
        "### Verifying again if any columns have null values"
      ]
    },
    {
      "cell_type": "code",
      "metadata": {
        "id": "q4bms71FLn28",
        "colab_type": "code",
        "outputId": "7c915f00-26bc-468c-a81f-31f1ff92f064",
        "colab": {
          "base_uri": "https://localhost:8080/",
          "height": 816
        }
      },
      "source": [
        "spr_train_processed_df.isnull().sum()"
      ],
      "execution_count": 62,
      "outputs": [
        {
          "output_type": "execute_result",
          "data": {
            "text/plain": [
              "date                             0\n",
              "customer_code                    0\n",
              "employee_index                   0\n",
              "country_residence                0\n",
              "sex                              0\n",
              "age                              0\n",
              "date_first_joined                0\n",
              "new_customer_index               0\n",
              "customer_seniority_in_months     0\n",
              "index_first_end_of_month         0\n",
              "customer_type_month_begin        0\n",
              "customer_relation_month_begin    0\n",
              "resident                         0\n",
              "foreigner                        0\n",
              "channel_used                     0\n",
              "deceased                         0\n",
              "address_type                     0\n",
              "province_code                    0\n",
              "province_name                    0\n",
              "active_customer                  0\n",
              "household_gross                  0\n",
              "segmentation                     0\n",
              "saving_account                   0\n",
              "guarantees                       0\n",
              "current_accounts                 0\n",
              "derivada_account                 0\n",
              "payroll_account                  0\n",
              "junior_account                   0\n",
              "mas_particular_account           0\n",
              "particular_account               0\n",
              "particular_plus_account          0\n",
              "short_term_deposits              0\n",
              "medium_term_deposits             0\n",
              "long_term_deposits               0\n",
              "e_account                        0\n",
              "funds                            0\n",
              "mortgage                         0\n",
              "pensions_1                       0\n",
              "loans                            0\n",
              "taxes                            0\n",
              "credit_card                      0\n",
              "securities                       0\n",
              "home_account                     0\n",
              "payroll                          0\n",
              "pensions_2                       0\n",
              "direct_debit                     0\n",
              "dtype: int64"
            ]
          },
          "metadata": {
            "tags": []
          },
          "execution_count": 62
        }
      ]
    },
    {
      "cell_type": "markdown",
      "metadata": {
        "id": "oQVRyq7Xd47j",
        "colab_type": "text"
      },
      "source": [
        "## Transforming non-numerical columns to one-hot"
      ]
    },
    {
      "cell_type": "code",
      "metadata": {
        "id": "Hf2AkYpWUTus",
        "colab_type": "code",
        "outputId": "b346ce8d-2d26-4f1b-aa98-f3712f84635c",
        "colab": {
          "base_uri": "https://localhost:8080/",
          "height": 816
        }
      },
      "source": [
        "spr_train_encoded_df = spr_train_processed_df\n",
        "\n",
        "spr_train_encoded_df.dtypes"
      ],
      "execution_count": 63,
      "outputs": [
        {
          "output_type": "execute_result",
          "data": {
            "text/plain": [
              "date                              object\n",
              "customer_code                      int64\n",
              "employee_index                    object\n",
              "country_residence                 object\n",
              "sex                               object\n",
              "age                                int64\n",
              "date_first_joined                 object\n",
              "new_customer_index               float64\n",
              "customer_seniority_in_months       int64\n",
              "index_first_end_of_month         float64\n",
              "customer_type_month_begin        float64\n",
              "customer_relation_month_begin     object\n",
              "resident                          object\n",
              "foreigner                         object\n",
              "channel_used                      object\n",
              "deceased                          object\n",
              "address_type                     float64\n",
              "province_code                    float64\n",
              "province_name                     object\n",
              "active_customer                  float64\n",
              "household_gross                  float64\n",
              "segmentation                      object\n",
              "saving_account                     int64\n",
              "guarantees                         int64\n",
              "current_accounts                   int64\n",
              "derivada_account                   int64\n",
              "payroll_account                    int64\n",
              "junior_account                     int64\n",
              "mas_particular_account             int64\n",
              "particular_account                 int64\n",
              "particular_plus_account            int64\n",
              "short_term_deposits                int64\n",
              "medium_term_deposits               int64\n",
              "long_term_deposits                 int64\n",
              "e_account                          int64\n",
              "funds                              int64\n",
              "mortgage                           int64\n",
              "pensions_1                         int64\n",
              "loans                              int64\n",
              "taxes                              int64\n",
              "credit_card                        int64\n",
              "securities                         int64\n",
              "home_account                       int64\n",
              "payroll                          float64\n",
              "pensions_2                       float64\n",
              "direct_debit                       int64\n",
              "dtype: object"
            ]
          },
          "metadata": {
            "tags": []
          },
          "execution_count": 63
        }
      ]
    },
    {
      "cell_type": "code",
      "metadata": {
        "id": "AscHo_ZueVWM",
        "colab_type": "code",
        "outputId": "46efe672-0f70-4716-f7b9-6a694fd11fb3",
        "colab": {
          "base_uri": "https://localhost:8080/",
          "height": 54
        }
      },
      "source": [
        "from sklearn import preprocessing\n",
        "# Since a lot of data is in the String format which we can not feed to classifier, \n",
        "# we will encode the column values to labeled integer values\n",
        "# We only encode the non-integer type of columns\n",
        "columns_to_encode = spr_train_processed_df.select_dtypes(include=[object]).columns.tolist()\n",
        "print(columns_to_encode)\n",
        "\n",
        "#Labeled Encoder\n",
        "le = preprocessing.LabelEncoder()\n",
        "for column_name in columns_to_encode:\n",
        "    spr_train_encoded_df[column_name] = le.fit_transform(spr_train_encoded_df[column_name])\n",
        "\n",
        "# OneHOT Encoding - we can use either one-hot-encoding or labeled encoder. I tried both for learning purposes\n",
        "# one_hot_encoder = preprocessing.OneHotEncoder()\n",
        "# for column_name in columns_to_encode:\n",
        "#     spr_train_processed_df[column_name] = pd.get_dummies(spr_train_processed_df[column_name])"
      ],
      "execution_count": 64,
      "outputs": [
        {
          "output_type": "stream",
          "text": [
            "['date', 'employee_index', 'country_residence', 'sex', 'date_first_joined', 'customer_relation_month_begin', 'resident', 'foreigner', 'channel_used', 'deceased', 'province_name', 'segmentation']\n"
          ],
          "name": "stdout"
        }
      ]
    },
    {
      "cell_type": "code",
      "metadata": {
        "id": "UJvajAR3y75_",
        "colab_type": "code",
        "outputId": "53a576fb-d12e-4024-cb03-94e846c92c39",
        "colab": {
          "base_uri": "https://localhost:8080/",
          "height": 100
        }
      },
      "source": [
        "spr_train_encoded_df[:1]"
      ],
      "execution_count": 65,
      "outputs": [
        {
          "output_type": "execute_result",
          "data": {
            "text/html": [
              "<div>\n",
              "<style scoped>\n",
              "    .dataframe tbody tr th:only-of-type {\n",
              "        vertical-align: middle;\n",
              "    }\n",
              "\n",
              "    .dataframe tbody tr th {\n",
              "        vertical-align: top;\n",
              "    }\n",
              "\n",
              "    .dataframe thead th {\n",
              "        text-align: right;\n",
              "    }\n",
              "</style>\n",
              "<table border=\"1\" class=\"dataframe\">\n",
              "  <thead>\n",
              "    <tr style=\"text-align: right;\">\n",
              "      <th></th>\n",
              "      <th>date</th>\n",
              "      <th>customer_code</th>\n",
              "      <th>employee_index</th>\n",
              "      <th>country_residence</th>\n",
              "      <th>sex</th>\n",
              "      <th>age</th>\n",
              "      <th>date_first_joined</th>\n",
              "      <th>new_customer_index</th>\n",
              "      <th>customer_seniority_in_months</th>\n",
              "      <th>index_first_end_of_month</th>\n",
              "      <th>customer_type_month_begin</th>\n",
              "      <th>customer_relation_month_begin</th>\n",
              "      <th>resident</th>\n",
              "      <th>foreigner</th>\n",
              "      <th>channel_used</th>\n",
              "      <th>deceased</th>\n",
              "      <th>address_type</th>\n",
              "      <th>province_code</th>\n",
              "      <th>province_name</th>\n",
              "      <th>active_customer</th>\n",
              "      <th>household_gross</th>\n",
              "      <th>segmentation</th>\n",
              "      <th>saving_account</th>\n",
              "      <th>guarantees</th>\n",
              "      <th>current_accounts</th>\n",
              "      <th>derivada_account</th>\n",
              "      <th>payroll_account</th>\n",
              "      <th>junior_account</th>\n",
              "      <th>mas_particular_account</th>\n",
              "      <th>particular_account</th>\n",
              "      <th>particular_plus_account</th>\n",
              "      <th>short_term_deposits</th>\n",
              "      <th>medium_term_deposits</th>\n",
              "      <th>long_term_deposits</th>\n",
              "      <th>e_account</th>\n",
              "      <th>funds</th>\n",
              "      <th>mortgage</th>\n",
              "      <th>pensions_1</th>\n",
              "      <th>loans</th>\n",
              "      <th>taxes</th>\n",
              "      <th>credit_card</th>\n",
              "      <th>securities</th>\n",
              "      <th>home_account</th>\n",
              "      <th>payroll</th>\n",
              "      <th>pensions_2</th>\n",
              "      <th>direct_debit</th>\n",
              "    </tr>\n",
              "  </thead>\n",
              "  <tbody>\n",
              "    <tr>\n",
              "      <th>0</th>\n",
              "      <td>0</td>\n",
              "      <td>1375586</td>\n",
              "      <td>3</td>\n",
              "      <td>36</td>\n",
              "      <td>0</td>\n",
              "      <td>35</td>\n",
              "      <td>6257</td>\n",
              "      <td>1.0</td>\n",
              "      <td>6</td>\n",
              "      <td>1.0</td>\n",
              "      <td>1.0</td>\n",
              "      <td>0</td>\n",
              "      <td>1</td>\n",
              "      <td>0</td>\n",
              "      <td>153</td>\n",
              "      <td>0</td>\n",
              "      <td>1.0</td>\n",
              "      <td>29.0</td>\n",
              "      <td>31</td>\n",
              "      <td>1.0</td>\n",
              "      <td>87218.1</td>\n",
              "      <td>2</td>\n",
              "      <td>0</td>\n",
              "      <td>0</td>\n",
              "      <td>1</td>\n",
              "      <td>0</td>\n",
              "      <td>0</td>\n",
              "      <td>0</td>\n",
              "      <td>0</td>\n",
              "      <td>0</td>\n",
              "      <td>0</td>\n",
              "      <td>0</td>\n",
              "      <td>0</td>\n",
              "      <td>0</td>\n",
              "      <td>0</td>\n",
              "      <td>0</td>\n",
              "      <td>0</td>\n",
              "      <td>0</td>\n",
              "      <td>0</td>\n",
              "      <td>0</td>\n",
              "      <td>0</td>\n",
              "      <td>0</td>\n",
              "      <td>0</td>\n",
              "      <td>0.0</td>\n",
              "      <td>0.0</td>\n",
              "      <td>0</td>\n",
              "    </tr>\n",
              "  </tbody>\n",
              "</table>\n",
              "</div>"
            ],
            "text/plain": [
              "   date  customer_code  employee_index  ...  payroll  pensions_2  direct_debit\n",
              "0     0        1375586               3  ...      0.0         0.0             0\n",
              "\n",
              "[1 rows x 46 columns]"
            ]
          },
          "metadata": {
            "tags": []
          },
          "execution_count": 65
        }
      ]
    },
    {
      "cell_type": "code",
      "metadata": {
        "id": "FJl0OIM7ZXbD",
        "colab_type": "code",
        "colab": {}
      },
      "source": [
        "X_columns = ['date', 'customer_code', 'employee_index', 'country_residence', 'sex',\n",
        "       'age', 'date_first_joined', 'new_customer_index',\n",
        "       'customer_seniority_in_months', 'index_first_end_of_month',\n",
        "       'customer_type_month_begin',\n",
        "       'customer_relation_month_begin', 'resident', 'foreigner',\n",
        "       'channel_used', 'deceased', 'address_type',\n",
        "       'province_code', 'province_name', 'active_customer', 'household_gross',\n",
        "       'segmentation']\n",
        "\n",
        "# Y_columns = ['saving_account', 'guarantees', 'current_accounts',\n",
        "#        'derivada_account', 'payroll_account', 'junior_account',\n",
        "#        'mas_particular_account', 'particular_account',\n",
        "#        'particular_plus_account', 'short_term_deposits',\n",
        "#        'medium_term_deposits', 'long_term_deposits', 'e_account', 'funds',\n",
        "#        'mortgage', 'pensions_1', 'loans', 'taxes', 'credit_card', 'securities',\n",
        "#        'home_account', 'payroll', 'pensions_2', 'direct_debit']\n",
        "\n",
        "Y_columns = ['saving_account', 'credit_card']"
      ],
      "execution_count": 0,
      "outputs": []
    },
    {
      "cell_type": "code",
      "metadata": {
        "id": "wAhzXKJ9JDSs",
        "colab_type": "code",
        "colab": {
          "base_uri": "https://localhost:8080/",
          "height": 34
        },
        "outputId": "2dac6c4c-76f1-4dc5-8fc2-563fc00c8271"
      },
      "source": [
        "spr_train_encoded_df.customer_code.count()"
      ],
      "execution_count": 67,
      "outputs": [
        {
          "output_type": "execute_result",
          "data": {
            "text/plain": [
              "13647309"
            ]
          },
          "metadata": {
            "tags": []
          },
          "execution_count": 67
        }
      ]
    },
    {
      "cell_type": "code",
      "metadata": {
        "id": "fba4-_g8bU8M",
        "colab_type": "code",
        "outputId": "2dd8c5c5-9bca-40c0-b6cc-5e7bb8430690",
        "colab": {
          "base_uri": "https://localhost:8080/",
          "height": 131
        }
      },
      "source": [
        "X = spr_train_encoded_df[X_columns]\n",
        "X.head(2)"
      ],
      "execution_count": 68,
      "outputs": [
        {
          "output_type": "execute_result",
          "data": {
            "text/html": [
              "<div>\n",
              "<style scoped>\n",
              "    .dataframe tbody tr th:only-of-type {\n",
              "        vertical-align: middle;\n",
              "    }\n",
              "\n",
              "    .dataframe tbody tr th {\n",
              "        vertical-align: top;\n",
              "    }\n",
              "\n",
              "    .dataframe thead th {\n",
              "        text-align: right;\n",
              "    }\n",
              "</style>\n",
              "<table border=\"1\" class=\"dataframe\">\n",
              "  <thead>\n",
              "    <tr style=\"text-align: right;\">\n",
              "      <th></th>\n",
              "      <th>date</th>\n",
              "      <th>customer_code</th>\n",
              "      <th>employee_index</th>\n",
              "      <th>country_residence</th>\n",
              "      <th>sex</th>\n",
              "      <th>age</th>\n",
              "      <th>date_first_joined</th>\n",
              "      <th>new_customer_index</th>\n",
              "      <th>customer_seniority_in_months</th>\n",
              "      <th>index_first_end_of_month</th>\n",
              "      <th>customer_type_month_begin</th>\n",
              "      <th>customer_relation_month_begin</th>\n",
              "      <th>resident</th>\n",
              "      <th>foreigner</th>\n",
              "      <th>channel_used</th>\n",
              "      <th>deceased</th>\n",
              "      <th>address_type</th>\n",
              "      <th>province_code</th>\n",
              "      <th>province_name</th>\n",
              "      <th>active_customer</th>\n",
              "      <th>household_gross</th>\n",
              "      <th>segmentation</th>\n",
              "    </tr>\n",
              "  </thead>\n",
              "  <tbody>\n",
              "    <tr>\n",
              "      <th>0</th>\n",
              "      <td>0</td>\n",
              "      <td>1375586</td>\n",
              "      <td>3</td>\n",
              "      <td>36</td>\n",
              "      <td>0</td>\n",
              "      <td>35</td>\n",
              "      <td>6257</td>\n",
              "      <td>1.0</td>\n",
              "      <td>6</td>\n",
              "      <td>1.0</td>\n",
              "      <td>1.0</td>\n",
              "      <td>0</td>\n",
              "      <td>1</td>\n",
              "      <td>0</td>\n",
              "      <td>153</td>\n",
              "      <td>0</td>\n",
              "      <td>1.0</td>\n",
              "      <td>29.0</td>\n",
              "      <td>31</td>\n",
              "      <td>1.0</td>\n",
              "      <td>87218.10</td>\n",
              "      <td>2</td>\n",
              "    </tr>\n",
              "    <tr>\n",
              "      <th>1</th>\n",
              "      <td>0</td>\n",
              "      <td>1050611</td>\n",
              "      <td>3</td>\n",
              "      <td>36</td>\n",
              "      <td>2</td>\n",
              "      <td>23</td>\n",
              "      <td>5455</td>\n",
              "      <td>1.0</td>\n",
              "      <td>35</td>\n",
              "      <td>1.0</td>\n",
              "      <td>1.0</td>\n",
              "      <td>1</td>\n",
              "      <td>1</td>\n",
              "      <td>1</td>\n",
              "      <td>150</td>\n",
              "      <td>0</td>\n",
              "      <td>1.0</td>\n",
              "      <td>13.0</td>\n",
              "      <td>16</td>\n",
              "      <td>0.0</td>\n",
              "      <td>35548.74</td>\n",
              "      <td>3</td>\n",
              "    </tr>\n",
              "  </tbody>\n",
              "</table>\n",
              "</div>"
            ],
            "text/plain": [
              "   date  customer_code  ...  household_gross  segmentation\n",
              "0     0        1375586  ...         87218.10             2\n",
              "1     0        1050611  ...         35548.74             3\n",
              "\n",
              "[2 rows x 22 columns]"
            ]
          },
          "metadata": {
            "tags": []
          },
          "execution_count": 68
        }
      ]
    },
    {
      "cell_type": "markdown",
      "metadata": {
        "id": "xpG0zLTWIJyS",
        "colab_type": "text"
      },
      "source": [
        "### Normalizing the household_gross and dropping customer_code column"
      ]
    },
    {
      "cell_type": "code",
      "metadata": {
        "id": "LkYq9Sz3EFYS",
        "colab_type": "code",
        "outputId": "d221f854-b679-4c6b-e57e-bbe201b3d3c1",
        "colab": {
          "base_uri": "https://localhost:8080/",
          "height": 221
        }
      },
      "source": [
        "min_max_scaler = preprocessing.MinMaxScaler()\n",
        "X[['household_gross']] = min_max_scaler.fit_transform(X[['household_gross']])"
      ],
      "execution_count": 69,
      "outputs": [
        {
          "output_type": "stream",
          "text": [
            "/usr/local/lib/python3.6/dist-packages/ipykernel_launcher.py:2: SettingWithCopyWarning: \n",
            "A value is trying to be set on a copy of a slice from a DataFrame.\n",
            "Try using .loc[row_indexer,col_indexer] = value instead\n",
            "\n",
            "See the caveats in the documentation: https://pandas.pydata.org/pandas-docs/stable/user_guide/indexing.html#returning-a-view-versus-a-copy\n",
            "  \n",
            "/usr/local/lib/python3.6/dist-packages/pandas/core/indexing.py:966: SettingWithCopyWarning: \n",
            "A value is trying to be set on a copy of a slice from a DataFrame.\n",
            "Try using .loc[row_indexer,col_indexer] = value instead\n",
            "\n",
            "See the caveats in the documentation: https://pandas.pydata.org/pandas-docs/stable/user_guide/indexing.html#returning-a-view-versus-a-copy\n",
            "  self.obj[item] = s\n"
          ],
          "name": "stderr"
        }
      ]
    },
    {
      "cell_type": "code",
      "metadata": {
        "id": "sZNJcpyjHlok",
        "colab_type": "code",
        "outputId": "dd2f2d20-2a9b-4720-ec52-efb793c775ed",
        "colab": {
          "base_uri": "https://localhost:8080/",
          "height": 102
        }
      },
      "source": [
        "X.drop(columns = ['customer_code'], inplace=True)"
      ],
      "execution_count": 70,
      "outputs": [
        {
          "output_type": "stream",
          "text": [
            "/usr/local/lib/python3.6/dist-packages/pandas/core/frame.py:3997: SettingWithCopyWarning: \n",
            "A value is trying to be set on a copy of a slice from a DataFrame\n",
            "\n",
            "See the caveats in the documentation: https://pandas.pydata.org/pandas-docs/stable/user_guide/indexing.html#returning-a-view-versus-a-copy\n",
            "  errors=errors,\n"
          ],
          "name": "stderr"
        }
      ]
    },
    {
      "cell_type": "code",
      "metadata": {
        "id": "6BVtNRv9H6uW",
        "colab_type": "code",
        "outputId": "1ec4dd77-da91-4feb-ca62-1a51bb275fab",
        "colab": {
          "base_uri": "https://localhost:8080/",
          "height": 131
        }
      },
      "source": [
        "X.head(2)"
      ],
      "execution_count": 71,
      "outputs": [
        {
          "output_type": "execute_result",
          "data": {
            "text/html": [
              "<div>\n",
              "<style scoped>\n",
              "    .dataframe tbody tr th:only-of-type {\n",
              "        vertical-align: middle;\n",
              "    }\n",
              "\n",
              "    .dataframe tbody tr th {\n",
              "        vertical-align: top;\n",
              "    }\n",
              "\n",
              "    .dataframe thead th {\n",
              "        text-align: right;\n",
              "    }\n",
              "</style>\n",
              "<table border=\"1\" class=\"dataframe\">\n",
              "  <thead>\n",
              "    <tr style=\"text-align: right;\">\n",
              "      <th></th>\n",
              "      <th>date</th>\n",
              "      <th>employee_index</th>\n",
              "      <th>country_residence</th>\n",
              "      <th>sex</th>\n",
              "      <th>age</th>\n",
              "      <th>date_first_joined</th>\n",
              "      <th>new_customer_index</th>\n",
              "      <th>customer_seniority_in_months</th>\n",
              "      <th>index_first_end_of_month</th>\n",
              "      <th>customer_type_month_begin</th>\n",
              "      <th>customer_relation_month_begin</th>\n",
              "      <th>resident</th>\n",
              "      <th>foreigner</th>\n",
              "      <th>channel_used</th>\n",
              "      <th>deceased</th>\n",
              "      <th>address_type</th>\n",
              "      <th>province_code</th>\n",
              "      <th>province_name</th>\n",
              "      <th>active_customer</th>\n",
              "      <th>household_gross</th>\n",
              "      <th>segmentation</th>\n",
              "    </tr>\n",
              "  </thead>\n",
              "  <tbody>\n",
              "    <tr>\n",
              "      <th>0</th>\n",
              "      <td>0</td>\n",
              "      <td>3</td>\n",
              "      <td>36</td>\n",
              "      <td>0</td>\n",
              "      <td>35</td>\n",
              "      <td>6257</td>\n",
              "      <td>1.0</td>\n",
              "      <td>6</td>\n",
              "      <td>1.0</td>\n",
              "      <td>1.0</td>\n",
              "      <td>0</td>\n",
              "      <td>1</td>\n",
              "      <td>0</td>\n",
              "      <td>153</td>\n",
              "      <td>0</td>\n",
              "      <td>1.0</td>\n",
              "      <td>29.0</td>\n",
              "      <td>31</td>\n",
              "      <td>1.0</td>\n",
              "      <td>0.002977</td>\n",
              "      <td>2</td>\n",
              "    </tr>\n",
              "    <tr>\n",
              "      <th>1</th>\n",
              "      <td>0</td>\n",
              "      <td>3</td>\n",
              "      <td>36</td>\n",
              "      <td>2</td>\n",
              "      <td>23</td>\n",
              "      <td>5455</td>\n",
              "      <td>1.0</td>\n",
              "      <td>35</td>\n",
              "      <td>1.0</td>\n",
              "      <td>1.0</td>\n",
              "      <td>1</td>\n",
              "      <td>1</td>\n",
              "      <td>1</td>\n",
              "      <td>150</td>\n",
              "      <td>0</td>\n",
              "      <td>1.0</td>\n",
              "      <td>13.0</td>\n",
              "      <td>16</td>\n",
              "      <td>0.0</td>\n",
              "      <td>0.001189</td>\n",
              "      <td>3</td>\n",
              "    </tr>\n",
              "  </tbody>\n",
              "</table>\n",
              "</div>"
            ],
            "text/plain": [
              "   date  employee_index  ...  household_gross  segmentation\n",
              "0     0               3  ...         0.002977             2\n",
              "1     0               3  ...         0.001189             3\n",
              "\n",
              "[2 rows x 21 columns]"
            ]
          },
          "metadata": {
            "tags": []
          },
          "execution_count": 71
        }
      ]
    },
    {
      "cell_type": "code",
      "metadata": {
        "id": "8Uw9gJJCbkjj",
        "colab_type": "code",
        "outputId": "af25ccb6-e2fd-4940-bde6-d44b88e57e33",
        "colab": {
          "base_uri": "https://localhost:8080/",
          "height": 34
        }
      },
      "source": [
        "y = spr_train_encoded_df[Y_columns]\n",
        "y.head(2)\n",
        "y = y.to_numpy()\n",
        "y.shape"
      ],
      "execution_count": 72,
      "outputs": [
        {
          "output_type": "execute_result",
          "data": {
            "text/plain": [
              "(13647309, 2)"
            ]
          },
          "metadata": {
            "tags": []
          },
          "execution_count": 72
        }
      ]
    },
    {
      "cell_type": "code",
      "metadata": {
        "id": "cI2JHjPkb2L7",
        "colab_type": "code",
        "colab": {}
      },
      "source": [
        "from sklearn.model_selection import train_test_split\n",
        "X_train, X_test, y_train, y_test = train_test_split(X, y, random_state=0, test_size=0.10)"
      ],
      "execution_count": 0,
      "outputs": []
    },
    {
      "cell_type": "code",
      "metadata": {
        "id": "L4GKwYAGfOp-",
        "colab_type": "code",
        "outputId": "050a060a-5802-490a-ba0e-7fd57930858a",
        "colab": {
          "base_uri": "https://localhost:8080/",
          "height": 34
        }
      },
      "source": [
        "X_train.shape"
      ],
      "execution_count": 74,
      "outputs": [
        {
          "output_type": "execute_result",
          "data": {
            "text/plain": [
              "(12282578, 21)"
            ]
          },
          "metadata": {
            "tags": []
          },
          "execution_count": 74
        }
      ]
    },
    {
      "cell_type": "code",
      "metadata": {
        "id": "cDvCN5zoJoJ4",
        "colab_type": "code",
        "colab": {
          "base_uri": "https://localhost:8080/",
          "height": 34
        },
        "outputId": "45e77d88-a31b-474a-be0e-b3e0ca5b35d3"
      },
      "source": [
        "y_train.shape"
      ],
      "execution_count": 75,
      "outputs": [
        {
          "output_type": "execute_result",
          "data": {
            "text/plain": [
              "(12282578, 2)"
            ]
          },
          "metadata": {
            "tags": []
          },
          "execution_count": 75
        }
      ]
    },
    {
      "cell_type": "code",
      "metadata": {
        "id": "Jd7TAAetaDmO",
        "colab_type": "code",
        "colab": {}
      },
      "source": [
        "# del spr_train_df\n",
        "del spr_train_processed_df\n",
        "del spr_train_encoded_df"
      ],
      "execution_count": 0,
      "outputs": []
    },
    {
      "cell_type": "markdown",
      "metadata": {
        "id": "6K-mdiPdcTUk",
        "colab_type": "text"
      },
      "source": [
        "import xgboost as xgb\n",
        "from sklearn.multiclass import OneVsRestClassifier"
      ]
    },
    {
      "cell_type": "code",
      "metadata": {
        "id": "TiEP4zmhNuWN",
        "colab_type": "code",
        "colab": {}
      },
      "source": [
        "import xgboost as xgb \n",
        "from sklearn.multiclass import OneVsRestClassifier"
      ],
      "execution_count": 0,
      "outputs": []
    },
    {
      "cell_type": "code",
      "metadata": {
        "id": "5V9nGS2-OlFs",
        "colab_type": "code",
        "colab": {
          "base_uri": "https://localhost:8080/",
          "height": 71
        },
        "outputId": "726f05b8-b4bf-4fc6-d045-a603146a2fb9"
      },
      "source": [
        "xgb_classifier = xgb.XGBClassifier()\n",
        "clf = OneVsRestClassifier(xgb_classifier)\n",
        "clf.fit(X_train, y_train)\n",
        "y_pred = clf.predict(X_test)"
      ],
      "execution_count": 79,
      "outputs": [
        {
          "output_type": "stream",
          "text": [
            "[05:49:17] WARNING: /workspace/src/learner.cc:686: Tree method is automatically selected to be 'approx' for faster speed. To use old behavior (exact greedy algorithm on single machine), set tree_method to 'exact'.\n",
            "[06:42:55] WARNING: /workspace/src/learner.cc:686: Tree method is automatically selected to be 'approx' for faster speed. To use old behavior (exact greedy algorithm on single machine), set tree_method to 'exact'.\n"
          ],
          "name": "stdout"
        }
      ]
    },
    {
      "cell_type": "code",
      "metadata": {
        "id": "tIlega59ddc7",
        "colab_type": "code",
        "colab": {
          "base_uri": "https://localhost:8080/",
          "height": 34
        },
        "outputId": "ecedc509-46a7-4796-fdd7-b80aa1b0d373"
      },
      "source": [
        "from sklearn.metrics import accuracy_score, log_loss\n",
        "accuracy_score(y_pred, y_test)"
      ],
      "execution_count": 83,
      "outputs": [
        {
          "output_type": "execute_result",
          "data": {
            "text/plain": [
              "0.9554593542610229"
            ]
          },
          "metadata": {
            "tags": []
          },
          "execution_count": 83
        }
      ]
    },
    {
      "cell_type": "markdown",
      "metadata": {
        "id": "9e8ZcpS_ypdn",
        "colab_type": "text"
      },
      "source": [
        "\n",
        "Trial 1 - XGBoost 1vsRest - Accuracy Score : 0.9554593542610229, log_loss : 0.0 , 06-14-2020, only 2 targets : saving_account, credit_card\n",
        "\n",
        "\n",
        "\n"
      ]
    },
    {
      "cell_type": "code",
      "metadata": {
        "id": "QYkP1_LbfLiq",
        "colab_type": "code",
        "colab": {
          "base_uri": "https://localhost:8080/",
          "height": 34
        },
        "outputId": "9b2b6b78-8140-42be-d70b-784b6f02e06b"
      },
      "source": [
        "log_loss(y_pred, y_test)"
      ],
      "execution_count": 84,
      "outputs": [
        {
          "output_type": "execute_result",
          "data": {
            "text/plain": [
              "0.0"
            ]
          },
          "metadata": {
            "tags": []
          },
          "execution_count": 84
        }
      ]
    },
    {
      "cell_type": "code",
      "metadata": {
        "id": "limtO8VTZzRt",
        "colab_type": "code",
        "colab": {
          "base_uri": "https://localhost:8080/",
          "height": 136
        },
        "outputId": "1113cd9c-0922-40c8-a300-ae8dcdee2594"
      },
      "source": [
        "y_pred"
      ],
      "execution_count": 85,
      "outputs": [
        {
          "output_type": "execute_result",
          "data": {
            "text/plain": [
              "array([[0, 0],\n",
              "       [0, 0],\n",
              "       [0, 0],\n",
              "       ...,\n",
              "       [0, 0],\n",
              "       [0, 0],\n",
              "       [0, 0]])"
            ]
          },
          "metadata": {
            "tags": []
          },
          "execution_count": 85
        }
      ]
    },
    {
      "cell_type": "code",
      "metadata": {
        "id": "j0rkZI_axNer",
        "colab_type": "code",
        "colab": {
          "base_uri": "https://localhost:8080/",
          "height": 136
        },
        "outputId": "c199913c-e2c9-498c-be16-c88949ebf2b3"
      },
      "source": [
        "y_test"
      ],
      "execution_count": 86,
      "outputs": [
        {
          "output_type": "execute_result",
          "data": {
            "text/plain": [
              "array([[0, 0],\n",
              "       [0, 0],\n",
              "       [0, 0],\n",
              "       ...,\n",
              "       [0, 0],\n",
              "       [0, 0],\n",
              "       [0, 0]])"
            ]
          },
          "metadata": {
            "tags": []
          },
          "execution_count": 86
        }
      ]
    },
    {
      "cell_type": "code",
      "metadata": {
        "id": "-iPHCn2axUVE",
        "colab_type": "code",
        "colab": {}
      },
      "source": [
        ""
      ],
      "execution_count": 0,
      "outputs": []
    }
  ]
}